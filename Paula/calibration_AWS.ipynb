{
 "cells": [
  {
   "cell_type": "code",
   "execution_count": null,
   "metadata": {
    "vscode": {
     "languageId": "plaintext"
    }
   },
   "outputs": [],
   "source": [
    "import pandas as pd\n",
    "import matplotlib.pyplot as plt\n",
    "from scipy.interpolate import interp1d\n",
    "import numpy as np\n",
    "import pandas as pd"
   ]
  },
  {
   "cell_type": "code",
   "execution_count": null,
   "metadata": {
    "vscode": {
     "languageId": "plaintext"
    }
   },
   "outputs": [],
   "source": [
    "#get data\n",
    "path = 'D:/Studium_001/02_Master/Norwegen_Auslandssemester/01_UNIS/350_Boundary_Layer/03_Thomas/data/raw/'\n",
    "\n",
    "raw_layla_calibdata = path + 'aws/layla/CR1000_Layla_Res_data_1_min_20240910_20250125_2025_01_25_15_51_14.dat'\n",
    "raw_rosanna_calibdata =  path + 'aws/rosanna/CR200_Rosanna_Res_data_1_min_20240910_20250125_2025_01_25_14_36_19.dat'\n",
    "raw_mrsrobinson_calibdata =  path + 'aws/mrs_robinson/CR200_MrsRobinson_Res_data_1_min_20240910_20250125_2025_01_25_15_13_29.dat'\n",
    "raw_bettedavis_calibdata =  path + 'aws/bette_davis/CR200_BetteDavis_Res_data_1_min_20240910_20250125_2025_01_25_15_31_31.dat'\n",
    "raw_tomjoad_calibdata =  path + 'aws/tom_joad/CR1000_TomJoad_Res_data_1_min_20240910_20250125_2025_01_25_15_56_26.dat'\n",
    "\n",
    "#print(raw_layla_calibdata)"
   ]
  },
  {
   "cell_type": "code",
   "execution_count": null,
   "metadata": {
    "vscode": {
     "languageId": "plaintext"
    }
   },
   "outputs": [],
   "source": [
    "df_layla = pd.read_csv(raw_layla_calibdata, skiprows=[0, 2, 3]) \n",
    "#print(df_layla.head())\n",
    "\n",
    "df_rosanna = pd.read_csv(raw_rosanna_calibdata, skiprows=[0, 2, 3]) \n",
    "#print(df_rosanna.head()) \n",
    "\n",
    "df_mrsrobinson = pd.read_csv(raw_mrsrobinson_calibdata, skiprows=[0, 2, 3]) \n",
    "#print(df_mrsrobinson.head()) \n",
    "\n",
    "df_bettedavis = pd.read_csv(raw_bettedavis_calibdata, skiprows=[0, 2, 3]) \n",
    "#print(df_bettedavis.head()) \n",
    "\n",
    "df_tomjoad = pd.read_csv(raw_tomjoad_calibdata, skiprows=[0, 2, 3]) \n",
    "(df_tomjoad.head()) "
   ]
  },
  {
   "cell_type": "code",
   "execution_count": null,
   "metadata": {
    "vscode": {
     "languageId": "plaintext"
    }
   },
   "outputs": [],
   "source": [
    "#filter\n",
    "common_days = df_layla.iloc[:, 0]  # laylas days\n",
    "\n",
    "# filtered data\n",
    "df_layla_filtered = df_layla[df_layla.iloc[:, 0].isin(common_days)]\n",
    "df_rosanna_filtered = df_rosanna[df_rosanna.iloc[:, 0].isin(common_days)]\n",
    "df_mrsrobinson_filtered = df_mrsrobinson[df_mrsrobinson.iloc[:, 0].isin(common_days)]\n",
    "df_bettedavis_filtered = df_bettedavis[df_bettedavis.iloc[:, 0].isin(common_days)]\n",
    "df_tomjoad_filtered = df_tomjoad[df_tomjoad.iloc[:, 0].isin(common_days)]\n",
    "\n",
    "# print\n",
    "print(df_rosanna_filtered.head())\n",
    "# print(df_mrsrobinson_filtered.head())\n",
    "# print(df_bettedavis_filtered.head())\n",
    "# print(df_tomjoad_filtered.head())\n",
    "#print(df_tomjoad_filtered.to_string())  "
   ]
  },
  {
   "cell_type": "code",
   "execution_count": null,
   "metadata": {
    "vscode": {
     "languageId": "plaintext"
    }
   },
   "outputs": [],
   "source": [
    "# variables\n",
    "time = 'TIMESTAMP'\n",
    "wind = 'wind_speed'\n",
    "pressure = 'air_pressure'\n",
    "temperature = 'temperature'\n",
    "rel_humidity = 'rel_humidity'\n",
    "wind_direction = 'wind_direction'\n",
    "gust_speed = 'gust_speed'"
   ]
  },
  {
   "cell_type": "markdown",
   "metadata": {},
   "source": []
  },
  {
   "cell_type": "code",
   "execution_count": null,
   "metadata": {
    "vscode": {
     "languageId": "plaintext"
    }
   },
   "outputs": [],
   "source": []
  }
 ],
 "metadata": {
  "language_info": {
   "name": "python"
  }
 },
 "nbformat": 4,
 "nbformat_minor": 2
}
