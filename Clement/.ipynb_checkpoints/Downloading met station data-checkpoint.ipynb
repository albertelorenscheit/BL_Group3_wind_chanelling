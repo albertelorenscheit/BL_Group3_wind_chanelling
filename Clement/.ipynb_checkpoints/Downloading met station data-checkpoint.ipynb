{
 "cells": [
  {
   "cell_type": "markdown",
   "id": "29024998-4dbb-4f23-a460-774c00ec46ea",
   "metadata": {},
   "source": [
    "# Downloading data from the fixed met stations\n",
    "\n",
    "Seklima (https://seklima.met.no) doe snot allow to download large amount of data, instead, we must use https://frost.met.no. Here, I setup the API and attempt to download the data from the stations nearby Longyearbyen. This code is adapted from https://frost.met.no/python_example.html."
   ]
  },
  {
   "cell_type": "code",
   "execution_count": 1,
   "id": "5e602db0-aa81-4ed8-9f69-1766d38ae561",
   "metadata": {},
   "outputs": [],
   "source": [
    "import requests\n",
    "import pandas as pd\n",
    "\n",
    "# Insert your own client ID here\n",
    "client_id = '83df1705-b64e-4a54-a0b9-825064fc860c' # this is a client_id for Clément Cherblanc"
   ]
  },
  {
   "cell_type": "code",
   "execution_count": 19,
   "id": "f1748db9-cc39-43eb-9698-d0aa3fb09121",
   "metadata": {},
   "outputs": [],
   "source": [
    "# Define endpoint and parameters\n",
    "endpoint = 'https://frost.met.no/observations/v0.jsonld'\n",
    "parameters = {\n",
    "    'sources': 'SN99840',#use \"XXX,YYY\" (comma) for multiple stations, variable, etc.\n",
    "    'elements': 'wind_from_direction', \n",
    "    'referencetime': '2023-01-02/2024-01-01',\n",
    "    #'referencetime': '1995-01-02/2024-01-01',\n",
    "}\n",
    "# Issue an HTTP GET request\n",
    "r = requests.get(endpoint, parameters, auth=(client_id,''))\n",
    "# Extract JSON data\n",
    "json = r.json()"
   ]
  },
  {
   "cell_type": "code",
   "execution_count": 20,
   "id": "ef9773b4-464c-4587-8c33-2059cbd1c987",
   "metadata": {},
   "outputs": [
    {
     "name": "stdout",
     "output_type": "stream",
     "text": [
      "Data retrieved from frost.met.no!\n"
     ]
    }
   ],
   "source": [
    "# Check if the request worked, print out any errors\n",
    "if r.status_code == 200:\n",
    "    data = json['data']\n",
    "    print('Data retrieved from frost.met.no!')\n",
    "else:\n",
    "    print('Error! Returned status code %s' % r.status_code)\n",
    "    print('Message: %s' % json['error']['message'])\n",
    "    print('Reason: %s' % json['error']['reason'])"
   ]
  },
  {
   "cell_type": "code",
   "execution_count": null,
   "id": "81801cbb-bb0c-40f0-a7f2-e0af472970e7",
   "metadata": {},
   "outputs": [],
   "source": [
    "# This will return a Dataframe with all of the observations in a table format\n",
    "df = pd.DataFrame()\n",
    "for i in range(len(data)):\n",
    "    row = pd.DataFrame(data[i]['observations'])\n",
    "    row['referenceTime'] = data[i]['referenceTime']\n",
    "    row['sourceId'] = data[i]['sourceId']\n",
    "    df.iloc[-1] = row\n",
    "\n",
    "df = df.reset_index()"
   ]
  },
  {
   "cell_type": "code",
   "execution_count": null,
   "id": "2d46e6b2-ee67-409e-9620-1b956f824fcc",
   "metadata": {},
   "outputs": [],
   "source": []
  }
 ],
 "metadata": {
  "kernelspec": {
   "display_name": "Python 3 (ipykernel)",
   "language": "python",
   "name": "python3"
  },
  "language_info": {
   "codemirror_mode": {
    "name": "ipython",
    "version": 3
   },
   "file_extension": ".py",
   "mimetype": "text/x-python",
   "name": "python",
   "nbconvert_exporter": "python",
   "pygments_lexer": "ipython3",
   "version": "3.12.5"
  }
 },
 "nbformat": 4,
 "nbformat_minor": 5
}
