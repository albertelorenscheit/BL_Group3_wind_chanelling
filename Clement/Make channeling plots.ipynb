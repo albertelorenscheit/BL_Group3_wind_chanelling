{
 "cells": [
  {
   "cell_type": "markdown",
   "id": "a92ce753-9318-41cb-8ce5-53a01fa017ef",
   "metadata": {},
   "source": [
    "# This notebooks aims to make channeling plots"
   ]
  },
  {
   "cell_type": "code",
   "execution_count": 1,
   "id": "10c0dd85-f499-49c9-ac7e-bd662d7a34bc",
   "metadata": {},
   "outputs": [],
   "source": [
    "import requests\n",
    "import pandas as pd\n",
    "import numpy as np\n",
    "import matplotlib.pyplot as plt\n",
    "\n",
    "import platform\n",
    "if platform.system() =='Linux': path='/home/clc/Desktop/AGF350_data/Data/'\n",
    "elif platform.system() =='Windows': path='../Data/'"
   ]
  },
  {
   "cell_type": "markdown",
   "id": "6d397a4f-9689-4217-bf60-a503a9b08220",
   "metadata": {},
   "source": [
    "## Station information"
   ]
  },
  {
   "cell_type": "code",
   "execution_count": 4,
   "id": "972c75ab-2e60-46e2-a03b-51442dfe07e9",
   "metadata": {},
   "outputs": [],
   "source": [
    "end_date_now = np.datetime64('2025-01-01')\n",
    "stations = {'SN99870':{'name':'Adventdalen',\n",
    "                       'has_wind_data': True, \n",
    "                       'wind_direction_data_name':'wind_from_direction',\n",
    "                       'wind_speed_data_name':'wind_speed',\n",
    "                       'id':'SN99870',\n",
    "                       'elevation': 15,\n",
    "                       'latitude':78.2022,\n",
    "                       'longitude':15.831,\n",
    "                        'start_date': np.datetime64('2016-11-21'),\n",
    "                       'end_date': end_date_now,\n",
    "                       'valley_orientation':304},\n",
    "            'SN99864':{'name':'Nybyen',\n",
    "                       'has_wind_data': True, \n",
    "                       'wind_direction_data_name':'mean(wind_from_direction PT1M)',\n",
    "                       'wind_speed_data_name':'mean(wind_speed PT1M)',\n",
    "                       'id':'SN99864',\n",
    "                       'elevation': 114,\n",
    "                       'latitude':78.201609,\n",
    "                       'longitude':15.59266,\n",
    "                        'start_date': np.datetime64('2023-11-03'),\n",
    "                       'end_date': end_date_now,\n",
    "                       'valley_orientation':30}, # degrees from north\n",
    "             'SN99858':{'name':'Vannledningsdalen',\n",
    "                        'has_wind_data': True, \n",
    "                       'wind_direction_data_name':'mean(wind_from_direction PT1M)',\n",
    "                       'wind_speed_data_name':'mean(wind_speed PT1M)',\n",
    "                       'id':'SN99858',\n",
    "                       'elevation': 70,\n",
    "                       'latitude':78.2128,\n",
    "                       'longitude':15.633,\n",
    "                        'start_date': np.datetime64('2023-11-03'),\n",
    "                       'end_date': end_date_now,\n",
    "                       'valley_orientation':31},\n",
    "            'SN99840':{'name':'Svalbard Lufthavn',\n",
    "                       'has_wind_data': True, \n",
    "                       'wind_direction_data_name':'wind_from_direction',\n",
    "                       'wind_speed_data_name':'wind_speed',\n",
    "                       'id':'SN99840',\n",
    "                       'elevation': 28,\n",
    "                       'latitude':78.2453,\n",
    "                       'longitude':15.5015,\n",
    "                        #'start_date': np.datetime64('1964-10-16'),\n",
    "                        'start_date': np.datetime64('1994-12-31'),\n",
    "                       'end_date': end_date_now,\n",
    "                       'valley_orientation':305}, \n",
    "            'SN99843':{'name':'Platåberget III',\n",
    "                       'has_wind_data': True,\n",
    "                       'wind_direction_data_name':'wind_from_direction',\n",
    "                       'wind_speed_data_name':'wind_speed',\n",
    "                       'id':'SN99843',\n",
    "                       'elevation': 450,\n",
    "                       'latitude':78.2278,\n",
    "                       'longitude':15.378,\n",
    "                        'start_date': np.datetime64('2018-02-01'),\n",
    "                       'end_date': end_date_now,\n",
    "                       'valley_orientation':None}, \n",
    "            'SN99857':{'name':'Longyeardalen - Central',\n",
    "                       'has_wind_data': True,\n",
    "                       'wind_direction_data_name':'wind_from_direction',\n",
    "                       'wind_speed_data_name':'wind_speed',\n",
    "                       'id':'SN99857',\n",
    "                       'elevation': 52,\n",
    "                       'latitude':78.2127,\n",
    "                       'longitude':15.6107,\n",
    "                        'start_date': np.datetime64('2023-09-16'),\n",
    "                       'end_date': end_date_now,\n",
    "                       'valley_orientation':32} }"
   ]
  },
  {
   "cell_type": "code",
   "execution_count": null,
   "id": "6cc49d20-f1fe-4691-8714-659d39387bde",
   "metadata": {},
   "outputs": [],
   "source": []
  }
 ],
 "metadata": {
  "kernelspec": {
   "display_name": "Python 3 (ipykernel)",
   "language": "python",
   "name": "python3"
  },
  "language_info": {
   "codemirror_mode": {
    "name": "ipython",
    "version": 3
   },
   "file_extension": ".py",
   "mimetype": "text/x-python",
   "name": "python",
   "nbconvert_exporter": "python",
   "pygments_lexer": "ipython3",
   "version": "3.12.5"
  }
 },
 "nbformat": 4,
 "nbformat_minor": 5
}
