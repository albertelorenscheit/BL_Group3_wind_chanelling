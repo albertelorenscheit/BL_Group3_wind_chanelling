{
 "cells": [
  {
   "cell_type": "code",
   "execution_count": 75,
   "metadata": {},
   "outputs": [],
   "source": [
    "import pandas as pd\n",
    "import matplotlib.pyplot as plt\n",
    "from scipy.interpolate import interp1d\n",
    "import numpy as np\n",
    "\n",
    "import sys\n",
    "sys.path.append(\"..\")\n",
    "\n",
    "from channeling_lib import AWS_file_loader, load_path\n"
   ]
  },
  {
   "cell_type": "code",
   "execution_count": 76,
   "metadata": {},
   "outputs": [
    {
     "name": "stdout",
     "output_type": "stream",
     "text": [
      "../Data/RawData/AWS/Layla/Calibration/CR1000_Layla_Res_data_1_min_20240910_20250125_2025_01_25_15_51_14.dat\n"
     ]
    }
   ],
   "source": [
    "#get data\n",
    "path = load_path() + 'RawData/AWS/'\n",
    "\n",
    "raw_layla_calibdata = path + 'Layla/Calibration/CR1000_Layla_Res_data_1_min_20240910_20250125_2025_01_25_15_51_14.dat'\n",
    "raw_rosanna_calibdata =  path + 'Rosanna/Calibration/CR200_Rosanna_Res_data_1_min_20240910_20250125_2025_01_25_14_36_19.dat'\n",
    "raw_mrsrobinson_calibdata =  path + 'Mrs Robinson/Calibration/CR200_MrsRobinson_Res_data_1_min_20240910_20250125_2025_01_25_15_13_29.dat'\n",
    "raw_bettedavis_calibdata =  path + 'Bette Davis/Calibration/CR200_BetteDavis_Res_data_1_min_20240910_20250125_2025_01_25_15_31_31.dat'\n",
    "raw_tomjoad_calibdata =  path + 'Tom Joad/Calibration/CR1000_TomJoad_Res_data_1_min_20240910_20250125_2025_01_25_15_56_26.dat'\n",
    "\n",
    "print(raw_layla_calibdata)"
   ]
  },
  {
   "cell_type": "code",
   "execution_count": 77,
   "metadata": {},
   "outputs": [
    {
     "name": "stderr",
     "output_type": "stream",
     "text": [
      "c:\\Users\\Paula\\anaconda3\\envs\\Boundary_Layer\\Lib\\site-packages\\pandas\\core\\indexes\\base.py:7588: FutureWarning: Dtype inference on a pandas object (Series, Index, ExtensionArray) is deprecated. The Index constructor will keep the original dtype in the future. Call `infer_objects` on the result to get the old behavior.\n",
      "  return Index(sequences[0], name=names)\n",
      "c:\\Users\\Paula\\anaconda3\\envs\\Boundary_Layer\\Lib\\site-packages\\pandas\\core\\indexes\\base.py:7588: FutureWarning: Dtype inference on a pandas object (Series, Index, ExtensionArray) is deprecated. The Index constructor will keep the original dtype in the future. Call `infer_objects` on the result to get the old behavior.\n",
      "  return Index(sequences[0], name=names)\n",
      "c:\\Users\\Paula\\anaconda3\\envs\\Boundary_Layer\\Lib\\site-packages\\pandas\\core\\indexes\\base.py:7588: FutureWarning: Dtype inference on a pandas object (Series, Index, ExtensionArray) is deprecated. The Index constructor will keep the original dtype in the future. Call `infer_objects` on the result to get the old behavior.\n",
      "  return Index(sequences[0], name=names)\n"
     ]
    },
    {
     "name": "stdout",
     "output_type": "stream",
     "text": [
      "                      RECORD     BattV  temperature  rel_humidity  wind_speed  \\\n",
      "TIMESTAMP                                                                       \n",
      "2024-09-09 14:10:00  22912.0  12.60753     2.369150      58.67678         0.0   \n",
      "2024-09-09 14:11:00  22913.0  12.60501     2.377545      58.85535         0.0   \n",
      "2024-09-09 14:12:00  22914.0  12.60837     2.379834      58.59741         0.0   \n",
      "2024-09-09 14:13:00  22915.0  12.60333     2.376146      58.83703         0.0   \n",
      "2024-09-09 14:14:00  22916.0  12.60166     2.377545      58.22653         0.0   \n",
      "\n",
      "                     gust_speed  wind_direction  \n",
      "TIMESTAMP                                        \n",
      "2024-09-09 14:10:00         0.0             0.0  \n",
      "2024-09-09 14:11:00         0.0             0.0  \n",
      "2024-09-09 14:12:00         0.0             0.0  \n",
      "2024-09-09 14:13:00         0.0             0.0  \n",
      "2024-09-09 14:14:00         0.0             0.0  \n"
     ]
    },
    {
     "name": "stderr",
     "output_type": "stream",
     "text": [
      "c:\\Users\\Paula\\anaconda3\\envs\\Boundary_Layer\\Lib\\site-packages\\pandas\\core\\indexes\\base.py:7588: FutureWarning: Dtype inference on a pandas object (Series, Index, ExtensionArray) is deprecated. The Index constructor will keep the original dtype in the future. Call `infer_objects` on the result to get the old behavior.\n",
      "  return Index(sequences[0], name=names)\n",
      "c:\\Users\\Paula\\anaconda3\\envs\\Boundary_Layer\\Lib\\site-packages\\pandas\\core\\indexes\\base.py:7588: FutureWarning: Dtype inference on a pandas object (Series, Index, ExtensionArray) is deprecated. The Index constructor will keep the original dtype in the future. Call `infer_objects` on the result to get the old behavior.\n",
      "  return Index(sequences[0], name=names)\n"
     ]
    }
   ],
   "source": [
    "df_layla = AWS_file_loader(raw_layla_calibdata) \n",
    "#print(df_layla.head())\n",
    "\n",
    "df_rosanna = AWS_file_loader(raw_rosanna_calibdata)\n",
    "#print(df_rosanna.head()) \n",
    "\n",
    "df_mrsrobinson = AWS_file_loader(raw_mrsrobinson_calibdata)\n",
    "#print(df_mrsrobinson.head()) \n",
    "\n",
    "df_bettedavis = AWS_file_loader(raw_bettedavis_calibdata)\n",
    "print(df_bettedavis.head()) \n",
    "\n",
    "df_tomjoad = AWS_file_loader(raw_tomjoad_calibdata)\n",
    "#(df_tomjoad.head()) "
   ]
  },
  {
   "cell_type": "code",
   "execution_count": 78,
   "metadata": {},
   "outputs": [
    {
     "name": "stdout",
     "output_type": "stream",
     "text": [
      "                      RECORD     BattV  temperature  rel_humidity  wind_speed  \\\n",
      "TIMESTAMP                                                                       \n",
      "2025-01-22 16:27:00  35470.0  12.93156     21.03499      31.43012         0.0   \n",
      "2025-01-22 16:28:00  35471.0  12.91980     20.98778      31.16760         0.0   \n",
      "2025-01-22 16:29:00  35472.0  12.92904     20.96845      31.72926         0.0   \n",
      "2025-01-22 16:30:00  35473.0  12.92232     20.96514      31.02261         0.0   \n",
      "2025-01-22 16:31:00  35474.0  12.92232     20.98269      30.67615         0.0   \n",
      "\n",
      "                     gust_speed  wind_direction  \n",
      "TIMESTAMP                                        \n",
      "2025-01-22 16:27:00         0.0           315.0  \n",
      "2025-01-22 16:28:00         0.0           315.0  \n",
      "2025-01-22 16:29:00         0.0           315.0  \n",
      "2025-01-22 16:30:00         0.0           315.0  \n",
      "2025-01-22 16:31:00         0.0           315.0  \n"
     ]
    }
   ],
   "source": [
    "# common days based on index time\n",
    "common_days = df_layla.index  # all the same like laylas dates\n",
    "\n",
    "# filter the others\n",
    "df_rosanna_filtered = df_rosanna[df_rosanna.index.isin(common_days)]\n",
    "df_mrsrobinson_filtered = df_mrsrobinson[df_mrsrobinson.index.isin(common_days)]\n",
    "df_bettedavis_filtered = df_bettedavis[df_bettedavis.index.isin(common_days)]\n",
    "df_tomjoad_filtered = df_tomjoad[df_tomjoad.index.isin(common_days)]\n",
    "\n",
    "# # check\n",
    "# print(df_layla_filtered.head())\n",
    "print(df_bettedavis_filtered.head())\n"
   ]
  },
  {
   "cell_type": "code",
   "execution_count": 79,
   "metadata": {},
   "outputs": [],
   "source": [
    "# #filter\n",
    "# common_days = df_layla.iloc[:, 0]  # laylas days\n",
    "\n",
    "# # filtered data\n",
    "# df_layla_filtered = df_layla[df_layla.iloc[:, 0].isin(common_days)]\n",
    "# df_rosanna_filtered = df_rosanna[df_rosanna.iloc[:, 0].isin(common_days)]\n",
    "# df_mrsrobinson_filtered = df_mrsrobinson[df_mrsrobinson.iloc[:, 0].isin(common_days)]\n",
    "# df_bettedavis_filtered = df_bettedavis[df_bettedavis.iloc[:, 0].isin(common_days)]\n",
    "# df_tomjoad_filtered = df_tomjoad[df_tomjoad.iloc[:, 0].isin(common_days)]\n",
    "\n",
    "# # print\n",
    "# print(df_rosanna_filtered.head())\n",
    "# print(df_layla_filtered.head())\n",
    "# # print(df_bettedavis_filtered.head())\n",
    "# # print(df_tomjoad_filtered.head())\n",
    "# #print(df_tomjoad_filtered.to_string())  "
   ]
  },
  {
   "cell_type": "code",
   "execution_count": 81,
   "metadata": {},
   "outputs": [
    {
     "data": {
      "image/png": "[encoded data removed]",
      "text/plain": [
       "<Figure size 1200x600 with 1 Axes>"
      ]
     },
     "metadata": {},
     "output_type": "display_data"
    }
   ],
   "source": [
    "# Plot für Windgeschwindigkeit\n",
    "plt.figure(figsize=(12, 6))\n",
    "\n",
    "# Windgeschwindigkeit für jede Station mit der Zeit auf der x-Achse\n",
    "plt.plot(df_layla.index, df_layla['wind_speed'], label='Layla', color='blue', linewidth=0.5)\n",
    "plt.plot(df_tomjoad_filtered.index, df_tomjoad_filtered['wind_speed'], label='Tom', color='red', linewidth=0.5)\n",
    "plt.plot(df_bettedavis_filtered.index, df_bettedavis_filtered['wind_speed'], label='Bette', color='black', linewidth=0.5)\n",
    "plt.plot(df_rosanna_filtered.index, df_rosanna_filtered['wind_speed'], label='Rosanna', color='green', linewidth=0.5)\n",
    "plt.plot(df_mrsrobinson_filtered.index, df_mrsrobinson_filtered['wind_speed'], label='Mrs', color='yellow', linewidth=0.5)\n",
    "\n",
    "# Diagramm formatieren\n",
    "plt.xlabel('Time')\n",
    "plt.ylabel('Calibrated Wind Speed (m/s)')\n",
    "plt.legend()\n",
    "plt.grid(True)\n",
    "\n",
    "# Diagramm anzeigen\n",
    "#df_layla_filtered.index\n",
    "\n",
    "plt.show()\n"
   ]
  },
  {
   "cell_type": "code",
   "execution_count": 68,
   "metadata": {},
   "outputs": [],
   "source": [
    "# # variables\n",
    "# time = 'TIMESTAMP'\n",
    "# wind = 'wind_speed'\n",
    "# pressure = 'air_pressure'\n",
    "# temperature = 'temperature'\n",
    "# rel_humidity = 'rel_humidity'\n",
    "# wind_direction = 'wind_direction'\n",
    "# gust_speed = 'gust_speed'"
   ]
  },
  {
   "cell_type": "code",
   "execution_count": 69,
   "metadata": {},
   "outputs": [
    {
     "ename": "KeyError",
     "evalue": "'TIMESTAMP'",
     "output_type": "error",
     "traceback": [
      "\u001b[1;31m---------------------------------------------------------------------------\u001b[0m",
      "\u001b[1;31mKeyError\u001b[0m                                  Traceback (most recent call last)",
      "File \u001b[1;32mc:\\Users\\Paula\\anaconda3\\envs\\Boundary_Layer\\Lib\\site-packages\\pandas\\core\\indexes\\base.py:3805\u001b[0m, in \u001b[0;36mIndex.get_loc\u001b[1;34m(self, key)\u001b[0m\n\u001b[0;32m   3804\u001b[0m \u001b[38;5;28;01mtry\u001b[39;00m:\n\u001b[1;32m-> 3805\u001b[0m     \u001b[38;5;28;01mreturn\u001b[39;00m \u001b[38;5;28;43mself\u001b[39;49m\u001b[38;5;241;43m.\u001b[39;49m\u001b[43m_engine\u001b[49m\u001b[38;5;241;43m.\u001b[39;49m\u001b[43mget_loc\u001b[49m\u001b[43m(\u001b[49m\u001b[43mcasted_key\u001b[49m\u001b[43m)\u001b[49m\n\u001b[0;32m   3806\u001b[0m \u001b[38;5;28;01mexcept\u001b[39;00m \u001b[38;5;167;01mKeyError\u001b[39;00m \u001b[38;5;28;01mas\u001b[39;00m err:\n",
      "File \u001b[1;32mindex.pyx:167\u001b[0m, in \u001b[0;36mpandas._libs.index.IndexEngine.get_loc\u001b[1;34m()\u001b[0m\n",
      "File \u001b[1;32mindex.pyx:196\u001b[0m, in \u001b[0;36mpandas._libs.index.IndexEngine.get_loc\u001b[1;34m()\u001b[0m\n",
      "File \u001b[1;32mpandas\\\\_libs\\\\hashtable_class_helper.pxi:7081\u001b[0m, in \u001b[0;36mpandas._libs.hashtable.PyObjectHashTable.get_item\u001b[1;34m()\u001b[0m\n",
      "File \u001b[1;32mpandas\\\\_libs\\\\hashtable_class_helper.pxi:7089\u001b[0m, in \u001b[0;36mpandas._libs.hashtable.PyObjectHashTable.get_item\u001b[1;34m()\u001b[0m\n",
      "\u001b[1;31mKeyError\u001b[0m: 'TIMESTAMP'",
      "\nThe above exception was the direct cause of the following exception:\n",
      "\u001b[1;31mKeyError\u001b[0m                                  Traceback (most recent call last)",
      "Cell \u001b[1;32mIn[69], line 11\u001b[0m\n\u001b[0;32m      9\u001b[0m     \u001b[38;5;28;01mreturn\u001b[39;00m df_filtered\n\u001b[0;32m     10\u001b[0m \u001b[38;5;66;03m# filter layla\u001b[39;00m\n\u001b[1;32m---> 11\u001b[0m df_layla_filtered \u001b[38;5;241m=\u001b[39m \u001b[43mfilter_wind_data\u001b[49m\u001b[43m(\u001b[49m\u001b[43mdf_layla\u001b[49m\u001b[43m)\u001b[49m\n\u001b[0;32m     13\u001b[0m \u001b[38;5;66;03m# only keep data from laylas time span (without 2024) for all stations\u001b[39;00m\n\u001b[0;32m     14\u001b[0m valid_times \u001b[38;5;241m=\u001b[39m df_layla_filtered[time]\n",
      "Cell \u001b[1;32mIn[69], line 2\u001b[0m, in \u001b[0;36mfilter_wind_data\u001b[1;34m(df)\u001b[0m\n\u001b[0;32m      1\u001b[0m \u001b[38;5;28;01mdef\u001b[39;00m\u001b[38;5;250m \u001b[39m\u001b[38;5;21mfilter_wind_data\u001b[39m(df):\n\u001b[1;32m----> 2\u001b[0m     df[time] \u001b[38;5;241m=\u001b[39m pd\u001b[38;5;241m.\u001b[39mto_datetime(\u001b[43mdf\u001b[49m\u001b[43m[\u001b[49m\u001b[43mtime\u001b[49m\u001b[43m]\u001b[49m)  \u001b[38;5;66;03m# time as 'datetime'\u001b[39;00m\n\u001b[0;32m      3\u001b[0m     df_filtered \u001b[38;5;241m=\u001b[39m df[df[wind] \u001b[38;5;241m>\u001b[39m \u001b[38;5;241m0\u001b[39m]  \u001b[38;5;66;03m# zero values --> cut out\u001b[39;00m\n\u001b[0;32m      5\u001b[0m     \u001b[38;5;66;03m# cut out data that does not fit the curve at the end and beginning\u001b[39;00m\n",
      "File \u001b[1;32mc:\\Users\\Paula\\anaconda3\\envs\\Boundary_Layer\\Lib\\site-packages\\pandas\\core\\frame.py:4102\u001b[0m, in \u001b[0;36mDataFrame.__getitem__\u001b[1;34m(self, key)\u001b[0m\n\u001b[0;32m   4100\u001b[0m \u001b[38;5;28;01mif\u001b[39;00m \u001b[38;5;28mself\u001b[39m\u001b[38;5;241m.\u001b[39mcolumns\u001b[38;5;241m.\u001b[39mnlevels \u001b[38;5;241m>\u001b[39m \u001b[38;5;241m1\u001b[39m:\n\u001b[0;32m   4101\u001b[0m     \u001b[38;5;28;01mreturn\u001b[39;00m \u001b[38;5;28mself\u001b[39m\u001b[38;5;241m.\u001b[39m_getitem_multilevel(key)\n\u001b[1;32m-> 4102\u001b[0m indexer \u001b[38;5;241m=\u001b[39m \u001b[38;5;28;43mself\u001b[39;49m\u001b[38;5;241;43m.\u001b[39;49m\u001b[43mcolumns\u001b[49m\u001b[38;5;241;43m.\u001b[39;49m\u001b[43mget_loc\u001b[49m\u001b[43m(\u001b[49m\u001b[43mkey\u001b[49m\u001b[43m)\u001b[49m\n\u001b[0;32m   4103\u001b[0m \u001b[38;5;28;01mif\u001b[39;00m is_integer(indexer):\n\u001b[0;32m   4104\u001b[0m     indexer \u001b[38;5;241m=\u001b[39m [indexer]\n",
      "File \u001b[1;32mc:\\Users\\Paula\\anaconda3\\envs\\Boundary_Layer\\Lib\\site-packages\\pandas\\core\\indexes\\base.py:3812\u001b[0m, in \u001b[0;36mIndex.get_loc\u001b[1;34m(self, key)\u001b[0m\n\u001b[0;32m   3807\u001b[0m     \u001b[38;5;28;01mif\u001b[39;00m \u001b[38;5;28misinstance\u001b[39m(casted_key, \u001b[38;5;28mslice\u001b[39m) \u001b[38;5;129;01mor\u001b[39;00m (\n\u001b[0;32m   3808\u001b[0m         \u001b[38;5;28misinstance\u001b[39m(casted_key, abc\u001b[38;5;241m.\u001b[39mIterable)\n\u001b[0;32m   3809\u001b[0m         \u001b[38;5;129;01mand\u001b[39;00m \u001b[38;5;28many\u001b[39m(\u001b[38;5;28misinstance\u001b[39m(x, \u001b[38;5;28mslice\u001b[39m) \u001b[38;5;28;01mfor\u001b[39;00m x \u001b[38;5;129;01min\u001b[39;00m casted_key)\n\u001b[0;32m   3810\u001b[0m     ):\n\u001b[0;32m   3811\u001b[0m         \u001b[38;5;28;01mraise\u001b[39;00m InvalidIndexError(key)\n\u001b[1;32m-> 3812\u001b[0m     \u001b[38;5;28;01mraise\u001b[39;00m \u001b[38;5;167;01mKeyError\u001b[39;00m(key) \u001b[38;5;28;01mfrom\u001b[39;00m\u001b[38;5;250m \u001b[39m\u001b[38;5;21;01merr\u001b[39;00m\n\u001b[0;32m   3813\u001b[0m \u001b[38;5;28;01mexcept\u001b[39;00m \u001b[38;5;167;01mTypeError\u001b[39;00m:\n\u001b[0;32m   3814\u001b[0m     \u001b[38;5;66;03m# If we have a listlike key, _check_indexing_error will raise\u001b[39;00m\n\u001b[0;32m   3815\u001b[0m     \u001b[38;5;66;03m#  InvalidIndexError. Otherwise we fall through and re-raise\u001b[39;00m\n\u001b[0;32m   3816\u001b[0m     \u001b[38;5;66;03m#  the TypeError.\u001b[39;00m\n\u001b[0;32m   3817\u001b[0m     \u001b[38;5;28mself\u001b[39m\u001b[38;5;241m.\u001b[39m_check_indexing_error(key)\n",
      "\u001b[1;31mKeyError\u001b[0m: 'TIMESTAMP'"
     ]
    }
   ],
   "source": [
    "def filter_wind_data(df):\n",
    "    df[time] = pd.to_datetime(df[time])  # time as 'datetime'\n",
    "    df_filtered = df[df[wind] > 0]  # zero values --> cut out\n",
    "\n",
    "    # cut out data that does not fit the curve at the end and beginning\n",
    "    if len(df_filtered) > 2:\n",
    "        df_filtered = df_filtered.iloc[3:-2]\n",
    "    \n",
    "    return df_filtered\n",
    "# filter layla\n",
    "df_layla_filtered = filter_wind_data(df_layla)\n",
    "\n",
    "# only keep data from laylas time span (without 2024) for all stations\n",
    "valid_times = df_layla_filtered[time]\n",
    "\n",
    "df_rosanna_filtered = filter_wind_data(df_rosanna)\n",
    "df_rosanna_filtered = df_rosanna_filtered[df_rosanna_filtered[time].isin(valid_times)]\n",
    "\n",
    "df_mrsrobinson_filtered = filter_wind_data(df_mrsrobinson)\n",
    "df_mrsrobinson_filtered = df_mrsrobinson_filtered[df_mrsrobinson_filtered[time].isin(valid_times)]\n",
    "\n",
    "df_bettedavis_filtered = filter_wind_data(df_bettedavis)\n",
    "df_bettedavis_filtered = df_bettedavis_filtered[df_bettedavis_filtered[time].isin(valid_times)]\n",
    "\n",
    "df_tomjoad_filtered = filter_wind_data(df_tomjoad)\n",
    "df_tomjoad_filtered = df_tomjoad_filtered[df_tomjoad_filtered[time].isin(valid_times)]\n",
    "#df_tomjoad_filtered"
   ]
  },
  {
   "cell_type": "code",
   "execution_count": 26,
   "metadata": {},
   "outputs": [
    {
     "ename": "NameError",
     "evalue": "name 'df_layla_filtered' is not defined",
     "output_type": "error",
     "traceback": [
      "\u001b[1;31m---------------------------------------------------------------------------\u001b[0m",
      "\u001b[1;31mNameError\u001b[0m                                 Traceback (most recent call last)",
      "Cell \u001b[1;32mIn[26], line 2\u001b[0m\n\u001b[0;32m      1\u001b[0m \u001b[38;5;66;03m# DataFrames \u001b[39;00m\n\u001b[1;32m----> 2\u001b[0m df_avg \u001b[38;5;241m=\u001b[39m \u001b[43mdf_layla_filtered\u001b[49m[[time, wind]]\u001b[38;5;241m.\u001b[39mrename(columns\u001b[38;5;241m=\u001b[39m{wind: \u001b[38;5;124m'\u001b[39m\u001b[38;5;124mlayla_wind\u001b[39m\u001b[38;5;124m'\u001b[39m})\n\u001b[0;32m      4\u001b[0m df_avg \u001b[38;5;241m=\u001b[39m df_avg\u001b[38;5;241m.\u001b[39mmerge(df_rosanna_filtered[[time, wind]]\u001b[38;5;241m.\u001b[39mrename(columns\u001b[38;5;241m=\u001b[39m{wind: \u001b[38;5;124m'\u001b[39m\u001b[38;5;124mrosanna_wind\u001b[39m\u001b[38;5;124m'\u001b[39m}), on\u001b[38;5;241m=\u001b[39mtime, how\u001b[38;5;241m=\u001b[39m\u001b[38;5;124m'\u001b[39m\u001b[38;5;124mouter\u001b[39m\u001b[38;5;124m'\u001b[39m)\n\u001b[0;32m      5\u001b[0m df_avg \u001b[38;5;241m=\u001b[39m df_avg\u001b[38;5;241m.\u001b[39mmerge(df_mrsrobinson_filtered[[time, wind]]\u001b[38;5;241m.\u001b[39mrename(columns\u001b[38;5;241m=\u001b[39m{wind: \u001b[38;5;124m'\u001b[39m\u001b[38;5;124mmrsrobinson_wind\u001b[39m\u001b[38;5;124m'\u001b[39m}), on\u001b[38;5;241m=\u001b[39mtime, how\u001b[38;5;241m=\u001b[39m\u001b[38;5;124m'\u001b[39m\u001b[38;5;124mouter\u001b[39m\u001b[38;5;124m'\u001b[39m)\n",
      "\u001b[1;31mNameError\u001b[0m: name 'df_layla_filtered' is not defined"
     ]
    }
   ],
   "source": [
    "# DataFrames \n",
    "df_avg = df_layla_filtered[[time, wind]].rename(columns={wind: 'layla_wind'})\n",
    "\n",
    "df_avg = df_avg.merge(df_rosanna_filtered[[time, wind]].rename(columns={wind: 'rosanna_wind'}), on=time, how='outer')\n",
    "df_avg = df_avg.merge(df_mrsrobinson_filtered[[time, wind]].rename(columns={wind: 'mrsrobinson_wind'}), on=time, how='outer')\n",
    "df_avg = df_avg.merge(df_bettedavis_filtered[[time, wind]].rename(columns={wind: 'bettedavis_wind'}), on=time, how='outer')\n",
    "df_avg = df_avg.merge(df_tomjoad_filtered[[time, wind]].rename(columns={wind: 'tomjoad_wind'}), on=time, how='outer')\n",
    "\n",
    "#  mean curve over all data\n",
    "df_avg['wind_avg'] = df_avg.iloc[:, 1:].mean(axis=1, skipna=True)\n",
    "\n",
    "# average of windspeed\n",
    "df_avg = df_avg[[time, 'wind_avg']]\n",
    "\n",
    "print(df_avg.head())"
   ]
  },
  {
   "cell_type": "code",
   "execution_count": 27,
   "metadata": {},
   "outputs": [
    {
     "ename": "NameError",
     "evalue": "name 'df_layla_filtered' is not defined",
     "output_type": "error",
     "traceback": [
      "\u001b[1;31m---------------------------------------------------------------------------\u001b[0m",
      "\u001b[1;31mNameError\u001b[0m                                 Traceback (most recent call last)",
      "Cell \u001b[1;32mIn[27], line 3\u001b[0m\n\u001b[0;32m      1\u001b[0m \u001b[38;5;66;03m# temperature\u001b[39;00m\n\u001b[1;32m----> 3\u001b[0m df_avg_temp \u001b[38;5;241m=\u001b[39m \u001b[43mdf_layla_filtered\u001b[49m[[time, temperature]]\u001b[38;5;241m.\u001b[39mrename(columns\u001b[38;5;241m=\u001b[39m{temperature: \u001b[38;5;124m'\u001b[39m\u001b[38;5;124mlayla_temperature\u001b[39m\u001b[38;5;124m'\u001b[39m})\n\u001b[0;32m      5\u001b[0m df_avg_temp \u001b[38;5;241m=\u001b[39m df_avg_temp\u001b[38;5;241m.\u001b[39mmerge(df_rosanna_filtered[[time, temperature]]\u001b[38;5;241m.\u001b[39mrename(columns\u001b[38;5;241m=\u001b[39m{temperature: \u001b[38;5;124m'\u001b[39m\u001b[38;5;124mrosanna_temperature\u001b[39m\u001b[38;5;124m'\u001b[39m}), on\u001b[38;5;241m=\u001b[39mtime, how\u001b[38;5;241m=\u001b[39m\u001b[38;5;124m'\u001b[39m\u001b[38;5;124mouter\u001b[39m\u001b[38;5;124m'\u001b[39m)\n\u001b[0;32m      6\u001b[0m df_avg_temp \u001b[38;5;241m=\u001b[39m df_avg_temp\u001b[38;5;241m.\u001b[39mmerge(df_mrsrobinson_filtered[[time, temperature]]\u001b[38;5;241m.\u001b[39mrename(columns\u001b[38;5;241m=\u001b[39m{temperature: \u001b[38;5;124m'\u001b[39m\u001b[38;5;124mmrsrobinson_temperature\u001b[39m\u001b[38;5;124m'\u001b[39m}), on\u001b[38;5;241m=\u001b[39mtime, how\u001b[38;5;241m=\u001b[39m\u001b[38;5;124m'\u001b[39m\u001b[38;5;124mouter\u001b[39m\u001b[38;5;124m'\u001b[39m)\n",
      "\u001b[1;31mNameError\u001b[0m: name 'df_layla_filtered' is not defined"
     ]
    }
   ],
   "source": [
    "# temperature\n",
    "\n",
    "df_avg_temp = df_layla_filtered[[time, temperature]].rename(columns={temperature: 'layla_temperature'})\n",
    "\n",
    "df_avg_temp = df_avg_temp.merge(df_rosanna_filtered[[time, temperature]].rename(columns={temperature: 'rosanna_temperature'}), on=time, how='outer')\n",
    "df_avg_temp = df_avg_temp.merge(df_mrsrobinson_filtered[[time, temperature]].rename(columns={temperature: 'mrsrobinson_temperature'}), on=time, how='outer')\n",
    "df_avg_temp = df_avg_temp.merge(df_bettedavis_filtered[[time, temperature]].rename(columns={temperature: 'bettedavis_temperature'}), on=time, how='outer')\n",
    "df_avg_temp = df_avg_temp.merge(df_tomjoad_filtered[[time, temperature]].rename(columns={temperature: 'tomjoad_temperature'}), on=time, how='outer')\n",
    "\n",
    "df_avg_temp['temperature_avg'] = df_avg_temp.iloc[:, 1:].mean(axis=1, skipna=True)\n",
    "\n",
    "df_avg_temp = df_avg_temp[[time, 'temperature_avg']]\n",
    "\n",
    "print(df_avg_temp.head())\n"
   ]
  },
  {
   "cell_type": "code",
   "execution_count": 28,
   "metadata": {},
   "outputs": [
    {
     "ename": "NameError",
     "evalue": "name 'df_layla_filtered' is not defined",
     "output_type": "error",
     "traceback": [
      "\u001b[1;31m---------------------------------------------------------------------------\u001b[0m",
      "\u001b[1;31mNameError\u001b[0m                                 Traceback (most recent call last)",
      "Cell \u001b[1;32mIn[28], line 2\u001b[0m\n\u001b[0;32m      1\u001b[0m \u001b[38;5;66;03m# Durchschnitt des Luftdrucks berechnen\u001b[39;00m\n\u001b[1;32m----> 2\u001b[0m df_avg_pressure \u001b[38;5;241m=\u001b[39m \u001b[43mdf_layla_filtered\u001b[49m[[time, pressure]]\u001b[38;5;241m.\u001b[39mrename(columns\u001b[38;5;241m=\u001b[39m{pressure: \u001b[38;5;124m'\u001b[39m\u001b[38;5;124mlayla_pressure\u001b[39m\u001b[38;5;124m'\u001b[39m})\n\u001b[0;32m      4\u001b[0m df_avg_pressure \u001b[38;5;241m=\u001b[39m df_avg_pressure\u001b[38;5;241m.\u001b[39mmerge(df_rosanna_filtered[[time, \u001b[38;5;124m'\u001b[39m\u001b[38;5;124mair_pressure\u001b[39m\u001b[38;5;124m'\u001b[39m]]\u001b[38;5;241m.\u001b[39mrename(columns\u001b[38;5;241m=\u001b[39m{\u001b[38;5;124m'\u001b[39m\u001b[38;5;124mair_pressure\u001b[39m\u001b[38;5;124m'\u001b[39m: \u001b[38;5;124m'\u001b[39m\u001b[38;5;124mrosanna_pressure\u001b[39m\u001b[38;5;124m'\u001b[39m}), on\u001b[38;5;241m=\u001b[39mtime, how\u001b[38;5;241m=\u001b[39m\u001b[38;5;124m'\u001b[39m\u001b[38;5;124mouter\u001b[39m\u001b[38;5;124m'\u001b[39m)\n\u001b[0;32m      5\u001b[0m \u001b[38;5;66;03m#df_avg_pressure = df_avg_pressure.merge(df_mrsrobinson_filtered[[time, 'air_pressure']].rename(columns={'air_pressure': 'mrsrobinson_pressure'}), on=time, how='outer')\u001b[39;00m\n\u001b[0;32m      6\u001b[0m \u001b[38;5;66;03m#df_avg_pressure = df_avg_pressure.merge(df_bettedavis_filtered[[time, 'air_pressure']].rename(columns={'air_pressure': 'bettedavis_pressure'}), on=time, how='outer')\u001b[39;00m\n\u001b[0;32m      7\u001b[0m \u001b[38;5;66;03m# df_avg_pressure = df_avg_pressure.merge(df_tomjoad_filtered[[time, 'air_pressure']].rename(columns={'air_pressure': 'tomjoad_pressure'}), on=time, how='outer')\u001b[39;00m\n\u001b[0;32m      8\u001b[0m \n\u001b[0;32m      9\u001b[0m \u001b[38;5;66;03m# Berechnen des Durchschnitts\u001b[39;00m\n",
      "\u001b[1;31mNameError\u001b[0m: name 'df_layla_filtered' is not defined"
     ]
    }
   ],
   "source": [
    "# Durchschnitt des Luftdrucks berechnen\n",
    "df_avg_pressure = df_layla_filtered[[time, pressure]].rename(columns={pressure: 'layla_pressure'})\n",
    "\n",
    "df_avg_pressure = df_avg_pressure.merge(df_rosanna_filtered[[time, 'air_pressure']].rename(columns={'air_pressure': 'rosanna_pressure'}), on=time, how='outer')\n",
    "#df_avg_pressure = df_avg_pressure.merge(df_mrsrobinson_filtered[[time, 'air_pressure']].rename(columns={'air_pressure': 'mrsrobinson_pressure'}), on=time, how='outer')\n",
    "#df_avg_pressure = df_avg_pressure.merge(df_bettedavis_filtered[[time, 'air_pressure']].rename(columns={'air_pressure': 'bettedavis_pressure'}), on=time, how='outer')\n",
    "# df_avg_pressure = df_avg_pressure.merge(df_tomjoad_filtered[[time, 'air_pressure']].rename(columns={'air_pressure': 'tomjoad_pressure'}), on=time, how='outer')\n",
    "\n",
    "# Berechnen des Durchschnitts\n",
    "df_avg_pressure['pressure_avg'] = df_avg_pressure.iloc[:, 1:].mean(axis=1, skipna=True)\n",
    "\n",
    "df_avg_pressure = df_avg_pressure[[time, 'pressure_avg']]\n",
    "\n",
    "print(df_avg_pressure.head())\n"
   ]
  },
  {
   "cell_type": "code",
   "execution_count": 29,
   "metadata": {},
   "outputs": [
    {
     "ename": "NameError",
     "evalue": "name 'df_layla_filtered' is not defined",
     "output_type": "error",
     "traceback": [
      "\u001b[1;31m---------------------------------------------------------------------------\u001b[0m",
      "\u001b[1;31mNameError\u001b[0m                                 Traceback (most recent call last)",
      "Cell \u001b[1;32mIn[29], line 3\u001b[0m\n\u001b[0;32m      1\u001b[0m \u001b[38;5;66;03m# rel_humidity\u001b[39;00m\n\u001b[1;32m----> 3\u001b[0m df_avg_rel_humidity \u001b[38;5;241m=\u001b[39m \u001b[43mdf_layla_filtered\u001b[49m[[time, rel_humidity]]\u001b[38;5;241m.\u001b[39mrename(columns\u001b[38;5;241m=\u001b[39m{rel_humidity: \u001b[38;5;124m'\u001b[39m\u001b[38;5;124mlayla_rel_humidity\u001b[39m\u001b[38;5;124m'\u001b[39m})\n\u001b[0;32m      5\u001b[0m df_avg_rel_humidity \u001b[38;5;241m=\u001b[39m df_avg_rel_humidity\u001b[38;5;241m.\u001b[39mmerge(df_rosanna_filtered[[time, rel_humidity]]\u001b[38;5;241m.\u001b[39mrename(columns\u001b[38;5;241m=\u001b[39m{rel_humidity: \u001b[38;5;124m'\u001b[39m\u001b[38;5;124mrosanna_rel_humidity\u001b[39m\u001b[38;5;124m'\u001b[39m}), on\u001b[38;5;241m=\u001b[39mtime, how\u001b[38;5;241m=\u001b[39m\u001b[38;5;124m'\u001b[39m\u001b[38;5;124mouter\u001b[39m\u001b[38;5;124m'\u001b[39m)\n\u001b[0;32m      6\u001b[0m df_avg_rel_humidity \u001b[38;5;241m=\u001b[39m df_avg_rel_humidity\u001b[38;5;241m.\u001b[39mmerge(df_mrsrobinson_filtered[[time, rel_humidity]]\u001b[38;5;241m.\u001b[39mrename(columns\u001b[38;5;241m=\u001b[39m{rel_humidity: \u001b[38;5;124m'\u001b[39m\u001b[38;5;124mmrsrobinson_rel_humidity\u001b[39m\u001b[38;5;124m'\u001b[39m}), on\u001b[38;5;241m=\u001b[39mtime, how\u001b[38;5;241m=\u001b[39m\u001b[38;5;124m'\u001b[39m\u001b[38;5;124mouter\u001b[39m\u001b[38;5;124m'\u001b[39m)\n",
      "\u001b[1;31mNameError\u001b[0m: name 'df_layla_filtered' is not defined"
     ]
    }
   ],
   "source": [
    "# rel_humidity\n",
    "\n",
    "df_avg_rel_humidity = df_layla_filtered[[time, rel_humidity]].rename(columns={rel_humidity: 'layla_rel_humidity'})\n",
    "\n",
    "df_avg_rel_humidity = df_avg_rel_humidity.merge(df_rosanna_filtered[[time, rel_humidity]].rename(columns={rel_humidity: 'rosanna_rel_humidity'}), on=time, how='outer')\n",
    "df_avg_rel_humidity = df_avg_rel_humidity.merge(df_mrsrobinson_filtered[[time, rel_humidity]].rename(columns={rel_humidity: 'mrsrobinson_rel_humidity'}), on=time, how='outer')\n",
    "df_avg_rel_humidity = df_avg_rel_humidity.merge(df_bettedavis_filtered[[time, rel_humidity]].rename(columns={rel_humidity: 'bettedavis_rel_humidity'}), on=time, how='outer')\n",
    "df_avg_rel_humidity = df_avg_rel_humidity.merge(df_tomjoad_filtered[[time, rel_humidity]].rename(columns={rel_humidity: 'tomjoad_rel_humidity'}), on=time, how='outer')\n",
    "\n",
    "df_avg_rel_humidity['rel_humidity_avg'] = df_avg_rel_humidity.iloc[:, 1:].mean(axis=1, skipna=True)\n",
    "\n",
    "df_avg_rel_humidity = df_avg_rel_humidity[[time, 'rel_humidity_avg']]\n",
    "\n",
    "print(df_avg_rel_humidity.head())\n"
   ]
  },
  {
   "cell_type": "code",
   "execution_count": 30,
   "metadata": {},
   "outputs": [
    {
     "ename": "NameError",
     "evalue": "name 'df_layla_filtered' is not defined",
     "output_type": "error",
     "traceback": [
      "\u001b[1;31m---------------------------------------------------------------------------\u001b[0m",
      "\u001b[1;31mNameError\u001b[0m                                 Traceback (most recent call last)",
      "Cell \u001b[1;32mIn[30], line 3\u001b[0m\n\u001b[0;32m      1\u001b[0m \u001b[38;5;66;03m# wind direction\u001b[39;00m\n\u001b[1;32m----> 3\u001b[0m df_avg_wind_direction \u001b[38;5;241m=\u001b[39m \u001b[43mdf_layla_filtered\u001b[49m[[time, wind_direction]]\u001b[38;5;241m.\u001b[39mrename(columns\u001b[38;5;241m=\u001b[39m{wind_direction: \u001b[38;5;124m'\u001b[39m\u001b[38;5;124mlayla_wind_direction\u001b[39m\u001b[38;5;124m'\u001b[39m})\n\u001b[0;32m      5\u001b[0m df_avg_wind_direction \u001b[38;5;241m=\u001b[39m df_avg_wind_direction\u001b[38;5;241m.\u001b[39mmerge(df_rosanna_filtered[[time, wind_direction]]\u001b[38;5;241m.\u001b[39mrename(columns\u001b[38;5;241m=\u001b[39m{wind_direction: \u001b[38;5;124m'\u001b[39m\u001b[38;5;124mrosanna_wind_direction\u001b[39m\u001b[38;5;124m'\u001b[39m}), on\u001b[38;5;241m=\u001b[39mtime, how\u001b[38;5;241m=\u001b[39m\u001b[38;5;124m'\u001b[39m\u001b[38;5;124mouter\u001b[39m\u001b[38;5;124m'\u001b[39m)\n\u001b[0;32m      6\u001b[0m df_avg_wind_direction \u001b[38;5;241m=\u001b[39m df_avg_wind_direction\u001b[38;5;241m.\u001b[39mmerge(df_mrsrobinson_filtered[[time, wind_direction]]\u001b[38;5;241m.\u001b[39mrename(columns\u001b[38;5;241m=\u001b[39m{wind_direction: \u001b[38;5;124m'\u001b[39m\u001b[38;5;124mmrsrobinson_wind_direction\u001b[39m\u001b[38;5;124m'\u001b[39m}), on\u001b[38;5;241m=\u001b[39mtime, how\u001b[38;5;241m=\u001b[39m\u001b[38;5;124m'\u001b[39m\u001b[38;5;124mouter\u001b[39m\u001b[38;5;124m'\u001b[39m)\n",
      "\u001b[1;31mNameError\u001b[0m: name 'df_layla_filtered' is not defined"
     ]
    }
   ],
   "source": [
    "# wind direction\n",
    "\n",
    "df_avg_wind_direction = df_layla_filtered[[time, wind_direction]].rename(columns={wind_direction: 'layla_wind_direction'})\n",
    "\n",
    "df_avg_wind_direction = df_avg_wind_direction.merge(df_rosanna_filtered[[time, wind_direction]].rename(columns={wind_direction: 'rosanna_wind_direction'}), on=time, how='outer')\n",
    "df_avg_wind_direction = df_avg_wind_direction.merge(df_mrsrobinson_filtered[[time, wind_direction]].rename(columns={wind_direction: 'mrsrobinson_wind_direction'}), on=time, how='outer')\n",
    "df_avg_wind_direction = df_avg_wind_direction.merge(df_bettedavis_filtered[[time, wind_direction]].rename(columns={wind_direction: 'bettedavis_wind_direction'}), on=time, how='outer')\n",
    "df_avg_wind_direction = df_avg_wind_direction.merge(df_tomjoad_filtered[[time, wind_direction]].rename(columns={wind_direction: 'tomjoad_wind_direction'}), on=time, how='outer')\n",
    "\n",
    "df_avg_wind_direction['wind_direction_avg'] = df_avg_wind_direction.iloc[:, 1:].mean(axis=1, skipna=True)\n",
    "\n",
    "df_avg_wind_direction = df_avg_wind_direction[[time, 'wind_direction_avg']]\n",
    "\n",
    "print(df_avg_wind_direction.head())\n"
   ]
  },
  {
   "cell_type": "code",
   "execution_count": 31,
   "metadata": {},
   "outputs": [
    {
     "ename": "NameError",
     "evalue": "name 'df_layla_filtered' is not defined",
     "output_type": "error",
     "traceback": [
      "\u001b[1;31m---------------------------------------------------------------------------\u001b[0m",
      "\u001b[1;31mNameError\u001b[0m                                 Traceback (most recent call last)",
      "Cell \u001b[1;32mIn[31], line 3\u001b[0m\n\u001b[0;32m      1\u001b[0m \u001b[38;5;66;03m# gusts\u001b[39;00m\n\u001b[1;32m----> 3\u001b[0m df_avg_gust_speed \u001b[38;5;241m=\u001b[39m \u001b[43mdf_layla_filtered\u001b[49m[[time, gust_speed]]\u001b[38;5;241m.\u001b[39mrename(columns\u001b[38;5;241m=\u001b[39m{gust_speed: \u001b[38;5;124m'\u001b[39m\u001b[38;5;124mlayla_gust_speed\u001b[39m\u001b[38;5;124m'\u001b[39m})\n\u001b[0;32m      5\u001b[0m df_avg_gust_speed \u001b[38;5;241m=\u001b[39m df_avg_gust_speed\u001b[38;5;241m.\u001b[39mmerge(df_rosanna_filtered[[time, gust_speed]]\u001b[38;5;241m.\u001b[39mrename(columns\u001b[38;5;241m=\u001b[39m{gust_speed: \u001b[38;5;124m'\u001b[39m\u001b[38;5;124mrosanna_gust_speed\u001b[39m\u001b[38;5;124m'\u001b[39m}), on\u001b[38;5;241m=\u001b[39mtime, how\u001b[38;5;241m=\u001b[39m\u001b[38;5;124m'\u001b[39m\u001b[38;5;124mouter\u001b[39m\u001b[38;5;124m'\u001b[39m)\n\u001b[0;32m      6\u001b[0m df_avg_gust_speed \u001b[38;5;241m=\u001b[39m df_avg_gust_speed\u001b[38;5;241m.\u001b[39mmerge(df_mrsrobinson_filtered[[time, gust_speed]]\u001b[38;5;241m.\u001b[39mrename(columns\u001b[38;5;241m=\u001b[39m{gust_speed: \u001b[38;5;124m'\u001b[39m\u001b[38;5;124mmrsrobinson_gust_speed\u001b[39m\u001b[38;5;124m'\u001b[39m}), on\u001b[38;5;241m=\u001b[39mtime, how\u001b[38;5;241m=\u001b[39m\u001b[38;5;124m'\u001b[39m\u001b[38;5;124mouter\u001b[39m\u001b[38;5;124m'\u001b[39m)\n",
      "\u001b[1;31mNameError\u001b[0m: name 'df_layla_filtered' is not defined"
     ]
    }
   ],
   "source": [
    "# gusts\n",
    "\n",
    "df_avg_gust_speed = df_layla_filtered[[time, gust_speed]].rename(columns={gust_speed: 'layla_gust_speed'})\n",
    "\n",
    "df_avg_gust_speed = df_avg_gust_speed.merge(df_rosanna_filtered[[time, gust_speed]].rename(columns={gust_speed: 'rosanna_gust_speed'}), on=time, how='outer')\n",
    "df_avg_gust_speed = df_avg_gust_speed.merge(df_mrsrobinson_filtered[[time, gust_speed]].rename(columns={gust_speed: 'mrsrobinson_gust_speed'}), on=time, how='outer')\n",
    "df_avg_gust_speed = df_avg_gust_speed.merge(df_bettedavis_filtered[[time, gust_speed]].rename(columns={gust_speed: 'bettedavis_gust_speed'}), on=time, how='outer')\n",
    "df_avg_gust_speed = df_avg_gust_speed.merge(df_tomjoad_filtered[[time, gust_speed]].rename(columns={gust_speed: 'tomjoad_gust_speed'}), on=time, how='outer')\n",
    "\n",
    "df_avg_gust_speed['gust_speed_avg'] = df_avg_gust_speed.iloc[:, 1:].mean(axis=1, skipna=True)\n",
    "\n",
    "df_avg_gust_speed = df_avg_gust_speed[[time, 'gust_speed_avg']]\n",
    "\n",
    "print(df_avg_gust_speed.head())\n"
   ]
  },
  {
   "cell_type": "code",
   "execution_count": 32,
   "metadata": {},
   "outputs": [
    {
     "ename": "NameError",
     "evalue": "name 'df_avg_temp' is not defined",
     "output_type": "error",
     "traceback": [
      "\u001b[1;31m---------------------------------------------------------------------------\u001b[0m",
      "\u001b[1;31mNameError\u001b[0m                                 Traceback (most recent call last)",
      "Cell \u001b[1;32mIn[32], line 2\u001b[0m\n\u001b[0;32m      1\u001b[0m \u001b[38;5;66;03m# Füge die gemittelten Werte aus den DataFrames für die anderen Variablen hinzu\u001b[39;00m\n\u001b[1;32m----> 2\u001b[0m df_avg[\u001b[38;5;124m'\u001b[39m\u001b[38;5;124mtemperature_avg\u001b[39m\u001b[38;5;124m'\u001b[39m] \u001b[38;5;241m=\u001b[39m \u001b[43mdf_avg_temp\u001b[49m[\u001b[38;5;124m'\u001b[39m\u001b[38;5;124mtemperature_avg\u001b[39m\u001b[38;5;124m'\u001b[39m]\n\u001b[0;32m      3\u001b[0m df_avg[\u001b[38;5;124m'\u001b[39m\u001b[38;5;124mpressure_avg\u001b[39m\u001b[38;5;124m'\u001b[39m] \u001b[38;5;241m=\u001b[39m df_avg_pressure[\u001b[38;5;124m'\u001b[39m\u001b[38;5;124mpressure_avg\u001b[39m\u001b[38;5;124m'\u001b[39m]\n\u001b[0;32m      4\u001b[0m df_avg[\u001b[38;5;124m'\u001b[39m\u001b[38;5;124mrel_humidity_avg\u001b[39m\u001b[38;5;124m'\u001b[39m] \u001b[38;5;241m=\u001b[39m df_avg_rel_humidity[\u001b[38;5;124m'\u001b[39m\u001b[38;5;124mrel_humidity_avg\u001b[39m\u001b[38;5;124m'\u001b[39m]\n",
      "\u001b[1;31mNameError\u001b[0m: name 'df_avg_temp' is not defined"
     ]
    }
   ],
   "source": [
    "# Füge die gemittelten Werte aus den DataFrames für die anderen Variablen hinzu\n",
    "df_avg['temperature_avg'] = df_avg_temp['temperature_avg']\n",
    "df_avg['pressure_avg'] = df_avg_pressure['pressure_avg']\n",
    "df_avg['rel_humidity_avg'] = df_avg_rel_humidity['rel_humidity_avg']\n",
    "df_avg['wind_direction_avg'] = df_avg_wind_direction['wind_direction_avg']\n",
    "df_avg['gust_speed_avg'] = df_avg_gust_speed['gust_speed_avg']\n",
    "\n",
    "# Zeige das Ergebnis an\n",
    "print(df_avg.head())\n"
   ]
  },
  {
   "cell_type": "markdown",
   "metadata": {},
   "source": [
    "wind: time series + average over all stations"
   ]
  },
  {
   "cell_type": "code",
   "execution_count": 33,
   "metadata": {},
   "outputs": [
    {
     "ename": "NameError",
     "evalue": "name 'df_layla_filtered' is not defined",
     "output_type": "error",
     "traceback": [
      "\u001b[1;31m---------------------------------------------------------------------------\u001b[0m",
      "\u001b[1;31mNameError\u001b[0m                                 Traceback (most recent call last)",
      "Cell \u001b[1;32mIn[33], line 4\u001b[0m\n\u001b[0;32m      1\u001b[0m \u001b[38;5;66;03m# Plot \u001b[39;00m\n\u001b[0;32m      2\u001b[0m plt\u001b[38;5;241m.\u001b[39mfigure(figsize\u001b[38;5;241m=\u001b[39m(\u001b[38;5;241m12\u001b[39m, \u001b[38;5;241m6\u001b[39m))\n\u001b[1;32m----> 4\u001b[0m plt\u001b[38;5;241m.\u001b[39mplot(\u001b[43mdf_layla_filtered\u001b[49m[time], df_layla_filtered[wind], label\u001b[38;5;241m=\u001b[39m\u001b[38;5;124m'\u001b[39m\u001b[38;5;124mLayla\u001b[39m\u001b[38;5;124m'\u001b[39m, color\u001b[38;5;241m=\u001b[39m\u001b[38;5;124m'\u001b[39m\u001b[38;5;124mblue\u001b[39m\u001b[38;5;124m'\u001b[39m, linewidth\u001b[38;5;241m=\u001b[39m\u001b[38;5;241m0.5\u001b[39m)\n\u001b[0;32m      5\u001b[0m plt\u001b[38;5;241m.\u001b[39mplot(df_rosanna_filtered[time], df_rosanna_filtered[wind], label\u001b[38;5;241m=\u001b[39m\u001b[38;5;124m'\u001b[39m\u001b[38;5;124mRosanna\u001b[39m\u001b[38;5;124m'\u001b[39m, color\u001b[38;5;241m=\u001b[39m\u001b[38;5;124m'\u001b[39m\u001b[38;5;124mred\u001b[39m\u001b[38;5;124m'\u001b[39m, linewidth\u001b[38;5;241m=\u001b[39m\u001b[38;5;241m0.5\u001b[39m)\n\u001b[0;32m      6\u001b[0m plt\u001b[38;5;241m.\u001b[39mplot(df_mrsrobinson_filtered[time], df_mrsrobinson_filtered[wind], label\u001b[38;5;241m=\u001b[39m\u001b[38;5;124m'\u001b[39m\u001b[38;5;124mMrs. Robinson\u001b[39m\u001b[38;5;124m'\u001b[39m, color\u001b[38;5;241m=\u001b[39m\u001b[38;5;124m'\u001b[39m\u001b[38;5;124mgreen\u001b[39m\u001b[38;5;124m'\u001b[39m, linewidth\u001b[38;5;241m=\u001b[39m\u001b[38;5;241m0.5\u001b[39m)\n",
      "\u001b[1;31mNameError\u001b[0m: name 'df_layla_filtered' is not defined"
     ]
    },
    {
     "data": {
      "text/plain": [
       "<Figure size 1200x600 with 0 Axes>"
      ]
     },
     "metadata": {},
     "output_type": "display_data"
    }
   ],
   "source": [
    "# Plot \n",
    "plt.figure(figsize=(12, 6))\n",
    "\n",
    "plt.plot(df_layla_filtered[time], df_layla_filtered[wind], label='Layla', color='blue', linewidth=0.5)\n",
    "plt.plot(df_rosanna_filtered[time], df_rosanna_filtered[wind], label='Rosanna', color='red', linewidth=0.5)\n",
    "plt.plot(df_mrsrobinson_filtered[time], df_mrsrobinson_filtered[wind], label='Mrs. Robinson', color='green', linewidth=0.5)\n",
    "plt.plot(df_bettedavis_filtered[time], df_bettedavis_filtered[wind], label='Bette Davis', color='purple', linewidth=0.5)\n",
    "plt.plot(df_tomjoad_filtered[time], df_tomjoad_filtered[wind], label='Tom Joad', color='orange', linewidth=0.5)\n",
    "\n",
    "#plot mean\n",
    "plt.plot(df_avg[time], df_avg['wind_avg'], label='mean', color='black', linewidth=1)\n",
    "\n",
    "# Diagramm formatieren\n",
    "#plt.title('Windgeschwindigkeit über Zeit für alle Stationen (Layla-Zeitraum)')\n",
    "plt.xlabel('time')\n",
    "plt.ylabel('windspeed [m/s]')\n",
    "plt.legend()\n",
    "plt.grid(True)\n",
    "\n",
    "#plt.savefig(\"allstations_wind.png\", dpi=300)\n",
    "\n",
    "plt.show()\n",
    "\n",
    "#df_avg.to_csv(\"mean_wind.csv\", index=False)\n",
    "\n",
    "#print(\"saved csv: mean_wind.csv\")"
   ]
  },
  {
   "cell_type": "markdown",
   "metadata": {},
   "source": [
    "calib for wind"
   ]
  },
  {
   "cell_type": "code",
   "execution_count": 34,
   "metadata": {},
   "outputs": [
    {
     "ename": "NameError",
     "evalue": "name 'df_layla_filtered' is not defined",
     "output_type": "error",
     "traceback": [
      "\u001b[1;31m---------------------------------------------------------------------------\u001b[0m",
      "\u001b[1;31mNameError\u001b[0m                                 Traceback (most recent call last)",
      "Cell \u001b[1;32mIn[34], line 4\u001b[0m\n\u001b[0;32m      1\u001b[0m \u001b[38;5;28;01mfrom\u001b[39;00m\u001b[38;5;250m \u001b[39m\u001b[38;5;21;01mscipy\u001b[39;00m\u001b[38;5;21;01m.\u001b[39;00m\u001b[38;5;21;01mstats\u001b[39;00m\u001b[38;5;250m \u001b[39m\u001b[38;5;28;01mimport\u001b[39;00m linregress\n\u001b[0;32m      3\u001b[0m \u001b[38;5;66;03m#layla wind\u001b[39;00m\n\u001b[1;32m----> 4\u001b[0m df_scatter_layla \u001b[38;5;241m=\u001b[39m \u001b[43mdf_layla_filtered\u001b[49m[[time, wind]]\u001b[38;5;241m.\u001b[39mmerge(df_avg[[time, \u001b[38;5;124m'\u001b[39m\u001b[38;5;124mwind_avg\u001b[39m\u001b[38;5;124m'\u001b[39m]], on\u001b[38;5;241m=\u001b[39mtime, how\u001b[38;5;241m=\u001b[39m\u001b[38;5;124m'\u001b[39m\u001b[38;5;124minner\u001b[39m\u001b[38;5;124m'\u001b[39m)\n\u001b[0;32m      6\u001b[0m slope, intercept, r_value, p_value, std_err \u001b[38;5;241m=\u001b[39m linregress(df_scatter_layla[\u001b[38;5;124m'\u001b[39m\u001b[38;5;124mwind_avg\u001b[39m\u001b[38;5;124m'\u001b[39m], df_scatter_layla[wind])\n\u001b[0;32m      7\u001b[0m regression_line \u001b[38;5;241m=\u001b[39m slope \u001b[38;5;241m*\u001b[39m df_scatter_layla[\u001b[38;5;124m'\u001b[39m\u001b[38;5;124mwind_avg\u001b[39m\u001b[38;5;124m'\u001b[39m] \u001b[38;5;241m+\u001b[39m intercept\n",
      "\u001b[1;31mNameError\u001b[0m: name 'df_layla_filtered' is not defined"
     ]
    }
   ],
   "source": [
    "from scipy.stats import linregress\n",
    "\n",
    "#layla wind\n",
    "df_scatter_layla = df_layla_filtered[[time, wind]].merge(df_avg[[time, 'wind_avg']], on=time, how='inner')\n",
    "\n",
    "slope, intercept, r_value, p_value, std_err = linregress(df_scatter_layla['wind_avg'], df_scatter_layla[wind])\n",
    "regression_line = slope * df_scatter_layla['wind_avg'] + intercept\n",
    "\n",
    "plt.figure(figsize=(8, 6))\n",
    "plt.scatter(df_scatter_layla['wind_avg'], df_scatter_layla[wind], color='blue', alpha=0.5)\n",
    "plt.plot(df_scatter_layla['wind_avg'], regression_line, color='black', linewidth=2)\n",
    "\n",
    "equation_text = f'Y(layla) = {slope:.2f}X + {intercept:.2f}\\n$R^2 = {r_value**2:.2f}$'\n",
    "\n",
    "plt.text(0.05, 0.95, equation_text, transform=plt.gca().transAxes, fontsize=12, verticalalignment='top', horizontalalignment='left', color='black')\n",
    "plt.xlabel('Average Wind Speed [m/s]')\n",
    "plt.ylabel('Wind Speed Layla [m/s]')\n",
    "plt.grid(True)\n",
    "\n",
    "#plt.savefig(\"scatter_layla_wind.png\", dpi=300)\n",
    "\n",
    "plt.show()\n",
    "\n",
    "#-----------------------------------------------------------------\n",
    "\n",
    "#rosanna wind\n",
    "df_scatter_rosanna = df_rosanna_filtered[[time, wind]].merge(df_avg[[time, 'wind_avg']], on=time, how='inner')\n",
    "\n",
    "slope, intercept, r_value, p_value, std_err = linregress(df_scatter_rosanna['wind_avg'], df_scatter_rosanna[wind])\n",
    "regression_line = slope * df_scatter_rosanna['wind_avg'] + intercept\n",
    "\n",
    "plt.figure(figsize=(8, 6))\n",
    "plt.scatter(df_scatter_rosanna['wind_avg'], df_scatter_rosanna[wind], color='red', alpha=0.5)\n",
    "plt.plot(df_scatter_rosanna['wind_avg'], regression_line, color='black', linewidth=2)\n",
    "\n",
    "equation_text = f'Y(Rosanna) = {slope:.2f}X + {intercept:.2f}\\n$R^2 = {r_value**2:.2f}$'\n",
    "\n",
    "plt.text(0.05, 0.95, equation_text, transform=plt.gca().transAxes, fontsize=12, verticalalignment='top', horizontalalignment='left', color='black')\n",
    "plt.xlabel('Average Wind Speed [m/s]')\n",
    "plt.ylabel('Wind Speed Rosanna [m/s]')\n",
    "plt.grid(True)\n",
    "\n",
    "#plt.savefig(\"scatter_rosanna_wind.png\", dpi=300)\n",
    "\n",
    "plt.show()\n",
    "\n",
    "#-----------------------------------------------------------------\n",
    "\n",
    "# mrs robinson\n",
    "df_scatter_mrsrobinson = df_mrsrobinson_filtered[[time, wind]].merge(df_avg[[time, 'wind_avg']], on=time, how='inner')\n",
    "\n",
    "slope, intercept, r_value, p_value, std_err = linregress(df_scatter_mrsrobinson['wind_avg'], df_scatter_mrsrobinson[wind])\n",
    "\n",
    "regression_line = slope * df_scatter_mrsrobinson['wind_avg'] + intercept\n",
    "\n",
    "plt.figure(figsize=(8, 6))\n",
    "plt.scatter(df_scatter_mrsrobinson['wind_avg'], df_scatter_mrsrobinson[wind], color='green', alpha=0.5)\n",
    "plt.plot(df_scatter_mrsrobinson['wind_avg'], regression_line, color='black', linewidth=2)\n",
    "\n",
    "equation_text = f'Y(Mrs. Robinson) = {slope:.2f}X + {intercept:.2f}\\n$R^2 = {r_value**2:.2f}$'\n",
    "\n",
    "plt.text(0.05, 0.95, equation_text, transform=plt.gca().transAxes, fontsize=12, verticalalignment='top', horizontalalignment='left', color='black')\n",
    "plt.xlabel('Average Wind Speed [m/s]')\n",
    "plt.ylabel('Wind Speed Mrs. Robinson [m/s]')\n",
    "plt.grid(True)\n",
    "\n",
    "#plt.savefig(\"scatter_mrsrobinson_wind.png\", dpi=300)\n",
    "\n",
    "plt.show()\n",
    "\n",
    "#--------------------------------------------------------------------------------------------------------------------\n",
    "# bette davis\n",
    "\n",
    "df_scatter_bettedavis = df_bettedavis_filtered[[time, wind]].merge(df_avg[[time, 'wind_avg']], on=time, how='inner')\n",
    "\n",
    "slope, intercept, r_value, p_value, std_err = linregress(df_scatter_bettedavis['wind_avg'], df_scatter_bettedavis[wind])\n",
    "\n",
    "regression_line = slope * df_scatter_bettedavis['wind_avg'] + intercept\n",
    "\n",
    "plt.figure(figsize=(8, 6))\n",
    "plt.scatter(df_scatter_bettedavis['wind_avg'], df_scatter_bettedavis[wind], color='purple', alpha=0.5)\n",
    "plt.plot(df_scatter_bettedavis['wind_avg'], regression_line, color='black', linewidth=2)\n",
    "\n",
    "equation_text = f'Y(Bette Davis) = {slope:.2f}X + {intercept:.2f}\\n$R^2 = {r_value**2:.2f}$'\n",
    "\n",
    "plt.text(0.05, 0.95, equation_text, transform=plt.gca().transAxes, fontsize=12, verticalalignment='top', horizontalalignment='left', color='black')\n",
    "plt.xlabel('Average Wind Speed [m/s]')\n",
    "plt.ylabel('Wind Speed Bette Davis [m/s]')\n",
    "plt.grid(True)\n",
    "\n",
    "#plt.savefig(\"scatter_bettedavis_wind.png\", dpi=300)\n",
    "\n",
    "plt.show()\n",
    "\n",
    "#------------------------------------------------------------------------------------------------------------------------\n",
    "\n",
    "# tom joad\n",
    "df_scatter_tomjoad = df_tomjoad_filtered[[time, wind]].merge(df_avg[[time, 'wind_avg']], on=time, how='inner')\n",
    "\n",
    "slope, intercept, r_value, p_value, std_err = linregress(df_scatter_tomjoad['wind_avg'], df_scatter_tomjoad[wind])\n",
    "\n",
    "regression_line = slope * df_scatter_tomjoad['wind_avg'] + intercept\n",
    "\n",
    "plt.figure(figsize=(8, 6))\n",
    "plt.scatter(df_scatter_tomjoad['wind_avg'], df_scatter_tomjoad[wind], color='orange', alpha=0.5)\n",
    "plt.plot(df_scatter_tomjoad['wind_avg'], regression_line, color='black', linewidth=2)\n",
    "\n",
    "equation_text = f'Y(Tom Joad) = {slope:.2f}X + {intercept:.2f}\\n$R^2 = {r_value**2:.2f}$'\n",
    "\n",
    "plt.text(0.05, 0.95, equation_text, transform=plt.gca().transAxes, fontsize=12, verticalalignment='top', horizontalalignment='left', color='black')\n",
    "plt.xlabel('Average Wind Speed [m/s]')\n",
    "plt.ylabel('Wind Speed Tom Joad [m/s]')\n",
    "plt.grid(True)\n",
    "\n",
    "#plt.savefig(\"scatter_tomjoad_wind.png\", dpi=300)\n",
    "\n",
    "plt.show()\n"
   ]
  },
  {
   "cell_type": "markdown",
   "metadata": {},
   "source": [
    "pressure: time series + average over all stations"
   ]
  },
  {
   "cell_type": "code",
   "execution_count": 35,
   "metadata": {},
   "outputs": [
    {
     "ename": "NameError",
     "evalue": "name 'df_layla_filtered' is not defined",
     "output_type": "error",
     "traceback": [
      "\u001b[1;31m---------------------------------------------------------------------------\u001b[0m",
      "\u001b[1;31mNameError\u001b[0m                                 Traceback (most recent call last)",
      "Cell \u001b[1;32mIn[35], line 4\u001b[0m\n\u001b[0;32m      1\u001b[0m \u001b[38;5;66;03m# Plot für Temperatur\u001b[39;00m\n\u001b[0;32m      2\u001b[0m plt\u001b[38;5;241m.\u001b[39mfigure(figsize\u001b[38;5;241m=\u001b[39m(\u001b[38;5;241m12\u001b[39m, \u001b[38;5;241m6\u001b[39m))\n\u001b[1;32m----> 4\u001b[0m plt\u001b[38;5;241m.\u001b[39mplot(\u001b[43mdf_layla_filtered\u001b[49m[time], df_layla_filtered[pressure], label\u001b[38;5;241m=\u001b[39m\u001b[38;5;124m'\u001b[39m\u001b[38;5;124mLayla\u001b[39m\u001b[38;5;124m'\u001b[39m, color\u001b[38;5;241m=\u001b[39m\u001b[38;5;124m'\u001b[39m\u001b[38;5;124mblue\u001b[39m\u001b[38;5;124m'\u001b[39m, linewidth\u001b[38;5;241m=\u001b[39m\u001b[38;5;241m0.5\u001b[39m)\n\u001b[0;32m      5\u001b[0m plt\u001b[38;5;241m.\u001b[39mplot(df_rosanna_filtered[time], df_rosanna_filtered[pressure], label\u001b[38;5;241m=\u001b[39m\u001b[38;5;124m'\u001b[39m\u001b[38;5;124mRosanna\u001b[39m\u001b[38;5;124m'\u001b[39m, color\u001b[38;5;241m=\u001b[39m\u001b[38;5;124m'\u001b[39m\u001b[38;5;124mred\u001b[39m\u001b[38;5;124m'\u001b[39m, linewidth\u001b[38;5;241m=\u001b[39m\u001b[38;5;241m0.5\u001b[39m)\n\u001b[0;32m      6\u001b[0m \u001b[38;5;66;03m#plt.plot(df_mrsrobinson_filtered[time], df_mrsrobinson_filtered[temperature], label='Mrs. Robinson', color='green', linewidth=0.5)\u001b[39;00m\n\u001b[0;32m      7\u001b[0m \u001b[38;5;66;03m#plt.plot(df_bettedavis_filtered[time], df_bettedavis_filtered[temperature], label='Bette Davis', color='purple', linewidth=0.5)\u001b[39;00m\n\u001b[0;32m      8\u001b[0m \u001b[38;5;66;03m#plt.plot(df_tomjoad_filtered[time], df_tomjoad_filtered[temperature], label='Tom Joad', color='orange', linewidth=0.5)\u001b[39;00m\n\u001b[0;32m      9\u001b[0m \n\u001b[0;32m     10\u001b[0m \u001b[38;5;66;03m# plot mean temperature\u001b[39;00m\n",
      "\u001b[1;31mNameError\u001b[0m: name 'df_layla_filtered' is not defined"
     ]
    },
    {
     "data": {
      "text/plain": [
       "<Figure size 1200x600 with 0 Axes>"
      ]
     },
     "metadata": {},
     "output_type": "display_data"
    }
   ],
   "source": [
    "# Plot für Temperatur\n",
    "plt.figure(figsize=(12, 6))\n",
    "\n",
    "plt.plot(df_layla_filtered[time], df_layla_filtered[pressure], label='Layla', color='blue', linewidth=0.5)\n",
    "plt.plot(df_rosanna_filtered[time], df_rosanna_filtered[pressure], label='Rosanna', color='red', linewidth=0.5)\n",
    "#plt.plot(df_mrsrobinson_filtered[time], df_mrsrobinson_filtered[temperature], label='Mrs. Robinson', color='green', linewidth=0.5)\n",
    "#plt.plot(df_bettedavis_filtered[time], df_bettedavis_filtered[temperature], label='Bette Davis', color='purple', linewidth=0.5)\n",
    "#plt.plot(df_tomjoad_filtered[time], df_tomjoad_filtered[temperature], label='Tom Joad', color='orange', linewidth=0.5)\n",
    "\n",
    "# plot mean temperature\n",
    "plt.plot(df_avg[time], df_avg['pressure_avg'], label='mean pressure', color='black', linewidth=1)\n",
    "\n",
    "# Diagramm formatieren\n",
    "plt.xlabel('time')\n",
    "plt.ylabel('pressure [hPa]')\n",
    "plt.legend()\n",
    "plt.grid(True)\n",
    "\n",
    "# Diagramm anzeigen\n",
    "plt.show()\n",
    "\n",
    "# Optional: Diagramm als Bild speichern\n",
    "#plt.savefig(\"allstations_pressure.png\", dpi=300)\n",
    "\n"
   ]
  },
  {
   "cell_type": "markdown",
   "metadata": {},
   "source": [
    "calib for pressure"
   ]
  },
  {
   "cell_type": "code",
   "execution_count": 36,
   "metadata": {},
   "outputs": [
    {
     "ename": "NameError",
     "evalue": "name 'df_layla_filtered' is not defined",
     "output_type": "error",
     "traceback": [
      "\u001b[1;31m---------------------------------------------------------------------------\u001b[0m",
      "\u001b[1;31mNameError\u001b[0m                                 Traceback (most recent call last)",
      "Cell \u001b[1;32mIn[36], line 2\u001b[0m\n\u001b[0;32m      1\u001b[0m \u001b[38;5;66;03m# Layla Pressure\u001b[39;00m\n\u001b[1;32m----> 2\u001b[0m df_scatter_layla \u001b[38;5;241m=\u001b[39m \u001b[43mdf_layla_filtered\u001b[49m[[time, pressure]]\u001b[38;5;241m.\u001b[39mmerge(df_avg_pressure[[time, \u001b[38;5;124m'\u001b[39m\u001b[38;5;124mpressure_avg\u001b[39m\u001b[38;5;124m'\u001b[39m]], on\u001b[38;5;241m=\u001b[39mtime, how\u001b[38;5;241m=\u001b[39m\u001b[38;5;124m'\u001b[39m\u001b[38;5;124minner\u001b[39m\u001b[38;5;124m'\u001b[39m)\n\u001b[0;32m      4\u001b[0m slope, intercept, r_value, p_value, std_err \u001b[38;5;241m=\u001b[39m linregress(df_scatter_layla[\u001b[38;5;124m'\u001b[39m\u001b[38;5;124mpressure_avg\u001b[39m\u001b[38;5;124m'\u001b[39m], df_scatter_layla[pressure])\n\u001b[0;32m      5\u001b[0m regression_line \u001b[38;5;241m=\u001b[39m slope \u001b[38;5;241m*\u001b[39m df_scatter_layla[\u001b[38;5;124m'\u001b[39m\u001b[38;5;124mpressure_avg\u001b[39m\u001b[38;5;124m'\u001b[39m] \u001b[38;5;241m+\u001b[39m intercept\n",
      "\u001b[1;31mNameError\u001b[0m: name 'df_layla_filtered' is not defined"
     ]
    }
   ],
   "source": [
    "# Layla Pressure\n",
    "df_scatter_layla = df_layla_filtered[[time, pressure]].merge(df_avg_pressure[[time, 'pressure_avg']], on=time, how='inner')\n",
    "\n",
    "slope, intercept, r_value, p_value, std_err = linregress(df_scatter_layla['pressure_avg'], df_scatter_layla[pressure])\n",
    "regression_line = slope * df_scatter_layla['pressure_avg'] + intercept\n",
    "\n",
    "plt.figure(figsize=(8, 6))\n",
    "plt.scatter(df_scatter_layla['pressure_avg'], df_scatter_layla[pressure], color='blue', alpha=0.5)\n",
    "plt.plot(df_scatter_layla['pressure_avg'], regression_line, color='black', linewidth=2)\n",
    "\n",
    "equation_text = f'Y(Layla) = {slope:.2f}X + {intercept:.2f}\\n$R^2 = {r_value**2:.2f}$'\n",
    "\n",
    "plt.text(0.05, 0.95, equation_text, transform=plt.gca().transAxes, fontsize=12, verticalalignment='top', horizontalalignment='left', color='black')\n",
    "plt.xlabel('Average Pressure [hPa]')\n",
    "plt.ylabel('Pressure Layla [hPa]')\n",
    "plt.grid(True)\n",
    "\n",
    "#plt.savefig(\"scatter_layla_pressure.png\", dpi=300)\n",
    "\n",
    "plt.show()\n",
    "\n",
    "#--------------------------------------------------------------------------------------------------------\n",
    "\n",
    "# Rosanna Pressure\n",
    "df_scatter_rosanna = df_rosanna_filtered[[time, pressure]].merge(df_avg_pressure[[time, 'pressure_avg']], on=time, how='inner')\n",
    "\n",
    "slope, intercept, r_value, p_value, std_err = linregress(df_scatter_rosanna['pressure_avg'], df_scatter_rosanna[pressure])\n",
    "regression_line = slope * df_scatter_rosanna['pressure_avg'] + intercept\n",
    "\n",
    "plt.figure(figsize=(8, 6))\n",
    "plt.scatter(df_scatter_rosanna['pressure_avg'], df_scatter_rosanna[pressure], color='red', alpha=0.5)\n",
    "plt.plot(df_scatter_rosanna['pressure_avg'], regression_line, color='black', linewidth=2)\n",
    "\n",
    "equation_text = f'Y(Rosanna) = {slope:.2f}X + {intercept:.2f}\\n$R^2 = {r_value**2:.2f}$'\n",
    "\n",
    "plt.text(0.05, 0.95, equation_text, transform=plt.gca().transAxes, fontsize=12, verticalalignment='top', horizontalalignment='left', color='black')\n",
    "plt.xlabel('Average Pressure [hPa]')\n",
    "plt.ylabel('Pressure Rosanna [hPa]')\n",
    "plt.grid(True)\n",
    "\n",
    "#plt.savefig(\"scatter_rosanna_pressure.png\", dpi=300)\n",
    "\n",
    "plt.show()"
   ]
  },
  {
   "cell_type": "markdown",
   "metadata": {},
   "source": [
    "wind direction: time series + average"
   ]
  },
  {
   "cell_type": "code",
   "execution_count": 37,
   "metadata": {},
   "outputs": [
    {
     "ename": "NameError",
     "evalue": "name 'df_layla_filtered' is not defined",
     "output_type": "error",
     "traceback": [
      "\u001b[1;31m---------------------------------------------------------------------------\u001b[0m",
      "\u001b[1;31mNameError\u001b[0m                                 Traceback (most recent call last)",
      "Cell \u001b[1;32mIn[37], line 5\u001b[0m\n\u001b[0;32m      3\u001b[0m \u001b[38;5;66;03m# layla\u001b[39;00m\n\u001b[0;32m      4\u001b[0m plt\u001b[38;5;241m.\u001b[39mfigure(figsize\u001b[38;5;241m=\u001b[39m(\u001b[38;5;241m12\u001b[39m, \u001b[38;5;241m6\u001b[39m))\n\u001b[1;32m----> 5\u001b[0m plt\u001b[38;5;241m.\u001b[39mscatter(\u001b[43mdf_layla_filtered\u001b[49m[time], df_layla_filtered[wind_direction], label\u001b[38;5;241m=\u001b[39m\u001b[38;5;124m'\u001b[39m\u001b[38;5;124mLayla\u001b[39m\u001b[38;5;124m'\u001b[39m, color\u001b[38;5;241m=\u001b[39m\u001b[38;5;124m'\u001b[39m\u001b[38;5;124mblue\u001b[39m\u001b[38;5;124m'\u001b[39m, alpha\u001b[38;5;241m=\u001b[39m\u001b[38;5;241m0.5\u001b[39m)\n\u001b[0;32m      6\u001b[0m plt\u001b[38;5;241m.\u001b[39mxlabel(\u001b[38;5;124m'\u001b[39m\u001b[38;5;124mtime\u001b[39m\u001b[38;5;124m'\u001b[39m)\n\u001b[0;32m      7\u001b[0m plt\u001b[38;5;241m.\u001b[39mylabel(\u001b[38;5;124m'\u001b[39m\u001b[38;5;124mwind direction [°]\u001b[39m\u001b[38;5;124m'\u001b[39m)\n",
      "\u001b[1;31mNameError\u001b[0m: name 'df_layla_filtered' is not defined"
     ]
    },
    {
     "data": {
      "text/plain": [
       "<Figure size 1200x600 with 0 Axes>"
      ]
     },
     "metadata": {},
     "output_type": "display_data"
    }
   ],
   "source": [
    "import matplotlib.ticker as ticker\n",
    "\n",
    "# layla\n",
    "plt.figure(figsize=(12, 6))\n",
    "plt.scatter(df_layla_filtered[time], df_layla_filtered[wind_direction], label='Layla', color='blue', alpha=0.5)\n",
    "plt.xlabel('time')\n",
    "plt.ylabel('wind direction [°]')\n",
    "plt.legend()\n",
    "plt.grid(True)\n",
    "plt.gca().yaxis.set_major_locator(ticker.MultipleLocator(45))  # Setzt den Abstand der Y-Achsen-Beschriftungen\n",
    "plt.gca().yaxis.set_major_formatter(ticker.FuncFormatter(lambda x, pos: f'{x:.0f}°'))  # Formatierung der Windrichtung\n",
    "plt.gca().xaxis.set_major_locator(mdates.HourLocator(interval=2))  # z.B. alle 2 Stunden\n",
    "plt.gcf().autofmt_xdate()  \n",
    "plt.ylim(0, 360)\n",
    "plt.show()\n",
    "#plt.savefig(\"wind_direction_scatter_layla.png\", dpi=300)\n",
    "\n",
    "#------------------------------------------------------------------------------------------------\n",
    "# tom joad\n",
    "plt.figure(figsize=(12, 6))\n",
    "plt.scatter(df_tomjoad_filtered[time], df_tomjoad_filtered[wind_direction], label='Tom Joad', color='orange', alpha=0.5)\n",
    "plt.xlabel('time')\n",
    "plt.ylabel('wind direction [°]')\n",
    "plt.legend()\n",
    "plt.grid(True)\n",
    "plt.gca().yaxis.set_major_locator(ticker.MultipleLocator(45))  # Setzt den Abstand der Y-Achsen-Beschriftungen\n",
    "plt.gca().yaxis.set_major_formatter(ticker.FuncFormatter(lambda x, pos: f'{x:.0f}°'))  # Formatierung der Windrichtung\n",
    "plt.gca().xaxis.set_major_locator(mdates.HourLocator(interval=2))  # z.B. alle 2 Stunden\n",
    "plt.gcf().autofmt_xdate() \n",
    "plt.ylim(0, 360) \n",
    "plt.show()\n",
    "#plt.savefig(\"wind_direction_scatter_tomjoad.png\", dpi=300)\n"
   ]
  },
  {
   "cell_type": "code",
   "execution_count": 38,
   "metadata": {},
   "outputs": [
    {
     "ename": "NameError",
     "evalue": "name 'df_rosanna_filtered' is not defined",
     "output_type": "error",
     "traceback": [
      "\u001b[1;31m---------------------------------------------------------------------------\u001b[0m",
      "\u001b[1;31mNameError\u001b[0m                                 Traceback (most recent call last)",
      "Cell \u001b[1;32mIn[38], line 4\u001b[0m\n\u001b[0;32m      1\u001b[0m \u001b[38;5;66;03m#------------------------------------------------------------------------------------------------\u001b[39;00m\n\u001b[0;32m      2\u001b[0m \u001b[38;5;66;03m#rosanna\u001b[39;00m\n\u001b[0;32m      3\u001b[0m plt\u001b[38;5;241m.\u001b[39mfigure(figsize\u001b[38;5;241m=\u001b[39m(\u001b[38;5;241m12\u001b[39m, \u001b[38;5;241m6\u001b[39m))\n\u001b[1;32m----> 4\u001b[0m plt\u001b[38;5;241m.\u001b[39mscatter(\u001b[43mdf_rosanna_filtered\u001b[49m[time], df_rosanna_filtered[wind_direction], label\u001b[38;5;241m=\u001b[39m\u001b[38;5;124m'\u001b[39m\u001b[38;5;124mRosanna\u001b[39m\u001b[38;5;124m'\u001b[39m, color\u001b[38;5;241m=\u001b[39m\u001b[38;5;124m'\u001b[39m\u001b[38;5;124mred\u001b[39m\u001b[38;5;124m'\u001b[39m, alpha\u001b[38;5;241m=\u001b[39m\u001b[38;5;241m0.5\u001b[39m)\n\u001b[0;32m      5\u001b[0m plt\u001b[38;5;241m.\u001b[39mxlabel(\u001b[38;5;124m'\u001b[39m\u001b[38;5;124mtime\u001b[39m\u001b[38;5;124m'\u001b[39m)\n\u001b[0;32m      6\u001b[0m plt\u001b[38;5;241m.\u001b[39mylabel(\u001b[38;5;124m'\u001b[39m\u001b[38;5;124mwind direction [°]\u001b[39m\u001b[38;5;124m'\u001b[39m)\n",
      "\u001b[1;31mNameError\u001b[0m: name 'df_rosanna_filtered' is not defined"
     ]
    },
    {
     "data": {
      "text/plain": [
       "<Figure size 1200x600 with 0 Axes>"
      ]
     },
     "metadata": {},
     "output_type": "display_data"
    }
   ],
   "source": [
    "#------------------------------------------------------------------------------------------------\n",
    "#rosanna\n",
    "plt.figure(figsize=(12, 6))\n",
    "plt.scatter(df_rosanna_filtered[time], df_rosanna_filtered[wind_direction], label='Rosanna', color='red', alpha=0.5)\n",
    "plt.xlabel('time')\n",
    "plt.ylabel('wind direction [°]')\n",
    "plt.legend()\n",
    "plt.grid(True)\n",
    "plt.gca().yaxis.set_major_locator(ticker.MultipleLocator(45))  # Setzt den Abstand der Y-Achsen-Beschriftungen\n",
    "plt.gca().yaxis.set_major_formatter(ticker.FuncFormatter(lambda x, pos: f'{x:.0f}°'))  # Formatierung der Windrichtung\n",
    "plt.gca().xaxis.set_major_locator(mdates.HourLocator(interval=2))  # z.B. alle 2 Stunden\n",
    "plt.gcf().autofmt_xdate()  \n",
    "plt.ylim(0, 360)  \n",
    "plt.show()\n",
    "#plt.savefig(\"wind_direction_scatter_rosanna.png\", dpi=300)\n",
    "\n",
    "\n",
    "#------------------------------------------------------------------------------------------------\n",
    "#mrs robinson\n",
    "plt.figure(figsize=(12, 6))\n",
    "plt.scatter(df_mrsrobinson_filtered[time], df_mrsrobinson_filtered[wind_direction], label='Mrs. Robinson', color='green', alpha=0.5)\n",
    "plt.xlabel('time')\n",
    "plt.ylabel('wind direction [°]')\n",
    "plt.legend()\n",
    "plt.grid(True)\n",
    "plt.gca().yaxis.set_major_locator(ticker.MultipleLocator(45))  # Setzt den Abstand der Y-Achsen-Beschriftungen\n",
    "plt.gca().yaxis.set_major_formatter(ticker.FuncFormatter(lambda x, pos: f'{x:.0f}°'))  # Formatierung der Windrichtung\n",
    "plt.gca().xaxis.set_major_locator(mdates.HourLocator(interval=2))  # z.B. alle 2 Stunden\n",
    "plt.gcf().autofmt_xdate()  # Automatische Drehung der X-Achsen-Beschriftungen\n",
    "plt.ylim(0, 360)  # Bereich für Windrichtung von 0 bis 360 Grad\n",
    "plt.show()\n",
    "#plt.savefig(\"wind_direction_scatter_mrsrobinson.png\", dpi=300)\n",
    "\n",
    "\n",
    "#------------------------------------------------------------------------------------------------\n",
    "#bettedavis\n",
    "plt.figure(figsize=(12, 6))\n",
    "plt.scatter(df_bettedavis_filtered[time], df_bettedavis_filtered[wind_direction], label='Bette Davis', color='purple', alpha=0.5)\n",
    "plt.xlabel('time')\n",
    "plt.ylabel('wind direction [°]')\n",
    "plt.legend()\n",
    "plt.grid(True)\n",
    "plt.gca().yaxis.set_major_locator(ticker.MultipleLocator(45))  # Setzt den Abstand der Y-Achsen-Beschriftungen\n",
    "plt.gca().yaxis.set_major_formatter(ticker.FuncFormatter(lambda x, pos: f'{x:.0f}°'))  # Formatierung der Windrichtung\n",
    "plt.gca().xaxis.set_major_locator(mdates.HourLocator(interval=2))  # z.B. alle 2 Stunden\n",
    "plt.gcf().autofmt_xdate()  \n",
    "plt.ylim(0, 360)  \n",
    "plt.show()\n",
    "#plt.savefig(\"wind_direction_scatter_bettedavis.png\", dpi=300)"
   ]
  },
  {
   "cell_type": "markdown",
   "metadata": {},
   "source": [
    "temperature: time series + average"
   ]
  },
  {
   "cell_type": "code",
   "execution_count": 39,
   "metadata": {},
   "outputs": [
    {
     "ename": "NameError",
     "evalue": "name 'df_layla_filtered' is not defined",
     "output_type": "error",
     "traceback": [
      "\u001b[1;31m---------------------------------------------------------------------------\u001b[0m",
      "\u001b[1;31mNameError\u001b[0m                                 Traceback (most recent call last)",
      "Cell \u001b[1;32mIn[39], line 4\u001b[0m\n\u001b[0;32m      1\u001b[0m \u001b[38;5;28;01mimport\u001b[39;00m\u001b[38;5;250m \u001b[39m\u001b[38;5;21;01mmatplotlib\u001b[39;00m\u001b[38;5;21;01m.\u001b[39;00m\u001b[38;5;21;01mticker\u001b[39;00m\u001b[38;5;250m \u001b[39m\u001b[38;5;28;01mas\u001b[39;00m\u001b[38;5;250m \u001b[39m\u001b[38;5;21;01mticker\u001b[39;00m\n\u001b[0;32m      3\u001b[0m \u001b[38;5;66;03m# Sicherstellen, dass die 'temperature' Spalte als numerischer Datentyp vorliegt\u001b[39;00m\n\u001b[1;32m----> 4\u001b[0m df_layla_filtered[\u001b[38;5;124m'\u001b[39m\u001b[38;5;124mtemperature\u001b[39m\u001b[38;5;124m'\u001b[39m] \u001b[38;5;241m=\u001b[39m pd\u001b[38;5;241m.\u001b[39mto_numeric(\u001b[43mdf_layla_filtered\u001b[49m[\u001b[38;5;124m'\u001b[39m\u001b[38;5;124mtemperature\u001b[39m\u001b[38;5;124m'\u001b[39m], errors\u001b[38;5;241m=\u001b[39m\u001b[38;5;124m'\u001b[39m\u001b[38;5;124mcoerce\u001b[39m\u001b[38;5;124m'\u001b[39m)\n\u001b[0;32m      5\u001b[0m df_rosanna_filtered[\u001b[38;5;124m'\u001b[39m\u001b[38;5;124mtemperature\u001b[39m\u001b[38;5;124m'\u001b[39m] \u001b[38;5;241m=\u001b[39m pd\u001b[38;5;241m.\u001b[39mto_numeric(df_rosanna_filtered[\u001b[38;5;124m'\u001b[39m\u001b[38;5;124mtemperature\u001b[39m\u001b[38;5;124m'\u001b[39m], errors\u001b[38;5;241m=\u001b[39m\u001b[38;5;124m'\u001b[39m\u001b[38;5;124mcoerce\u001b[39m\u001b[38;5;124m'\u001b[39m)\n\u001b[0;32m      6\u001b[0m df_mrsrobinson_filtered[\u001b[38;5;124m'\u001b[39m\u001b[38;5;124mtemperature\u001b[39m\u001b[38;5;124m'\u001b[39m] \u001b[38;5;241m=\u001b[39m pd\u001b[38;5;241m.\u001b[39mto_numeric(df_mrsrobinson_filtered[\u001b[38;5;124m'\u001b[39m\u001b[38;5;124mtemperature\u001b[39m\u001b[38;5;124m'\u001b[39m], errors\u001b[38;5;241m=\u001b[39m\u001b[38;5;124m'\u001b[39m\u001b[38;5;124mcoerce\u001b[39m\u001b[38;5;124m'\u001b[39m)\n",
      "\u001b[1;31mNameError\u001b[0m: name 'df_layla_filtered' is not defined"
     ]
    }
   ],
   "source": [
    "import matplotlib.ticker as ticker\n",
    "\n",
    "# Sicherstellen, dass die 'temperature' Spalte als numerischer Datentyp vorliegt\n",
    "df_layla_filtered['temperature'] = pd.to_numeric(df_layla_filtered['temperature'], errors='coerce')\n",
    "df_rosanna_filtered['temperature'] = pd.to_numeric(df_rosanna_filtered['temperature'], errors='coerce')\n",
    "df_mrsrobinson_filtered['temperature'] = pd.to_numeric(df_mrsrobinson_filtered['temperature'], errors='coerce')\n",
    "df_bettedavis_filtered['temperature'] = pd.to_numeric(df_bettedavis_filtered['temperature'], errors='coerce')\n",
    "df_tomjoad_filtered['temperature'] = pd.to_numeric(df_tomjoad_filtered['temperature'], errors='coerce')\n",
    "\n",
    "# Entfernen des ersten Werts aus den Daten\n",
    "df_layla_filtered = df_layla_filtered.iloc[7:]\n",
    "df_rosanna_filtered = df_rosanna_filtered.iloc[7:]\n",
    "df_mrsrobinson_filtered = df_mrsrobinson_filtered.iloc[7:]\n",
    "df_bettedavis_filtered = df_bettedavis_filtered.iloc[7:]\n",
    "df_tomjoad_filtered = df_tomjoad_filtered.iloc[7:]\n",
    "\n",
    "# Auch für den Mittelwert\n",
    "df_avg = df_avg.iloc[7:]\n",
    "\n",
    "# Liniendiagramm für Temperatur\n",
    "plt.figure(figsize=(12, 6))\n",
    "\n",
    "# Liniendiagramme für jede Station\n",
    "plt.plot(df_layla_filtered[time], df_layla_filtered['temperature'], label='Layla', color='blue', linewidth=0.5)\n",
    "plt.plot(df_rosanna_filtered[time], df_rosanna_filtered['temperature'], label='Rosanna', color='red', linewidth=0.5)\n",
    "plt.plot(df_mrsrobinson_filtered[time], df_mrsrobinson_filtered['temperature'], label='Mrs. Robinson', color='green', linewidth=0.5)\n",
    "plt.plot(df_bettedavis_filtered[time], df_bettedavis_filtered['temperature'], label='Bette Davis', color='purple', linewidth=0.5)\n",
    "plt.plot(df_tomjoad_filtered[time], df_tomjoad_filtered['temperature'], label='Tom Joad', color='orange', linewidth=0.5)\n",
    "\n",
    "# Liniendiagramm für den Mittelwert\n",
    "plt.plot(df_avg[time], df_avg['temperature_avg'], label='mean temperature', color='black', linewidth=1)\n",
    "\n",
    "# Diagramm formatieren\n",
    "plt.xlabel('time')\n",
    "plt.ylabel('temperature [°C]')\n",
    "plt.legend()\n",
    "\n",
    "# Y-Achse nach Größe der Werte sortieren\n",
    "plt.gca().yaxis.set_major_locator(ticker.MaxNLocator(integer=True, prune='lower'))\n",
    "\n",
    "# Manuell den Bereich der Y-Achse anpassen, falls nötig\n",
    "plt.ylim(df_layla_filtered['temperature'].min() - 1, df_layla_filtered['temperature'].max() + 1)\n",
    "\n",
    "# Diagramm anzeigen\n",
    "plt.show()\n",
    "\n",
    "# Optional: Diagramm als Bild speichern\n",
    "# plt.savefig(\"allstations_temperature.png\", dpi=300)\n"
   ]
  },
  {
   "cell_type": "markdown",
   "metadata": {},
   "source": [
    "calib for temperature"
   ]
  },
  {
   "cell_type": "code",
   "execution_count": 40,
   "metadata": {},
   "outputs": [
    {
     "ename": "NameError",
     "evalue": "name 'df_scatter_layla' is not defined",
     "output_type": "error",
     "traceback": [
      "\u001b[1;31m---------------------------------------------------------------------------\u001b[0m",
      "\u001b[1;31mNameError\u001b[0m                                 Traceback (most recent call last)",
      "Cell \u001b[1;32mIn[40], line 2\u001b[0m\n\u001b[0;32m      1\u001b[0m \u001b[38;5;66;03m# Überprüfen, ob es NaN-Werte gibt\u001b[39;00m\n\u001b[1;32m----> 2\u001b[0m nan_count_temp \u001b[38;5;241m=\u001b[39m \u001b[43mdf_scatter_layla\u001b[49m[\u001b[38;5;124m'\u001b[39m\u001b[38;5;124mtemperature\u001b[39m\u001b[38;5;124m'\u001b[39m]\u001b[38;5;241m.\u001b[39misna()\u001b[38;5;241m.\u001b[39msum()\n\u001b[0;32m      3\u001b[0m nan_count_temp_avg \u001b[38;5;241m=\u001b[39m df_scatter_layla[\u001b[38;5;124m'\u001b[39m\u001b[38;5;124mtemperature_avg\u001b[39m\u001b[38;5;124m'\u001b[39m]\u001b[38;5;241m.\u001b[39misna()\u001b[38;5;241m.\u001b[39msum()\n\u001b[0;32m      5\u001b[0m \u001b[38;5;28mprint\u001b[39m(\u001b[38;5;124mf\u001b[39m\u001b[38;5;124m\"\u001b[39m\u001b[38;5;124mLayla - NaN count in temperature: \u001b[39m\u001b[38;5;132;01m{\u001b[39;00mnan_count_temp\u001b[38;5;132;01m}\u001b[39;00m\u001b[38;5;124m\"\u001b[39m)\n",
      "\u001b[1;31mNameError\u001b[0m: name 'df_scatter_layla' is not defined"
     ]
    }
   ],
   "source": [
    "# Überprüfen, ob es NaN-Werte gibt\n",
    "nan_count_temp = df_scatter_layla['temperature'].isna().sum()\n",
    "nan_count_temp_avg = df_scatter_layla['temperature_avg'].isna().sum()\n",
    "\n",
    "print(f\"Layla - NaN count in temperature: {nan_count_temp}\")\n",
    "print(f\"Layla - NaN count in temperature_avg: {nan_count_temp_avg}\")\n",
    "\n",
    "# Überprüfen, ob es wenig Variation gibt (d.h., konstante Werte)\n",
    "temp_variance = df_scatter_layla['temperature'].var()\n",
    "temp_avg_variance = df_scatter_layla['temperature_avg'].var()\n",
    "\n",
    "print(f\"Layla - Temperature Variance: {temp_variance}\")\n",
    "print(f\"Layla - Avg Temperature Variance: {temp_avg_variance}\")\n",
    "\n",
    "# Wenn NaN-Werte vorhanden sind, diese aus den Daten entfernen\n",
    "df_scatter_layla_clean = df_scatter_layla.dropna(subset=['temperature', 'temperature_avg'])\n",
    "\n",
    "# Wenn die Daten sehr wenig Variation haben, könnte eine Regression nicht sinnvoll sein\n",
    "if temp_variance == 0 or temp_avg_variance == 0:\n",
    "    print(f\"Warning: The data for Layla has very little variation (variance = 0). A regression may not be possible.\")\n",
    "else:\n",
    "    # Führe die Regression nur aus, wenn es genug Variation gibt\n",
    "    slope, intercept, r_value, p_value, std_err = linregress(df_scatter_layla_clean['temperature_avg'], df_scatter_layla_clean['temperature'])\n",
    "    regression_line = slope * df_scatter_layla_clean['temperature_avg'] + intercept\n",
    "    \n",
    "    # Ausgabe der Regressionsparameter\n",
    "    print(f\"Regression parameters for Layla after cleaning data:\")\n",
    "    print(f\"Slope: {slope:.4f}, Intercept: {intercept:.4f}, R: {r_value:.4f}, R²: {r_value**2:.4f}\")\n",
    "    \n",
    "    # Plotten\n",
    "    plt.figure(figsize=(8, 6))\n",
    "    plt.scatter(df_scatter_layla_clean['temperature_avg'], df_scatter_layla_clean['temperature'], color='blue', alpha=0.5)\n",
    "    \n",
    "    # Wenn Regression existiert, plotte die Regressionslinie\n",
    "    if r_value**2 >= 0.1:\n",
    "        plt.plot(df_scatter_layla_clean['temperature_avg'], regression_line, color='black', linewidth=2)\n",
    "    \n",
    "    equation_text = f'Y(Layla) = {slope:.2f}X + {intercept:.2f}\\n$R^2 = {r_value**2:.2f}$'\n",
    "    plt.text(0.05, 0.95, equation_text, transform=plt.gca().transAxes, fontsize=12, verticalalignment='top', horizontalalignment='left', color='black')\n",
    "    \n",
    "    plt.xlabel('Average Temperature [°C]')\n",
    "    plt.ylabel('Temperature Layla [°C]')\n",
    "    plt.grid(True)\n",
    "    plt.show()\n"
   ]
  },
  {
   "cell_type": "code",
   "execution_count": 41,
   "metadata": {},
   "outputs": [
    {
     "ename": "NameError",
     "evalue": "name 'df_rosanna_filtered' is not defined",
     "output_type": "error",
     "traceback": [
      "\u001b[1;31m---------------------------------------------------------------------------\u001b[0m",
      "\u001b[1;31mNameError\u001b[0m                                 Traceback (most recent call last)",
      "Cell \u001b[1;32mIn[41], line 42\u001b[0m\n\u001b[0;32m     39\u001b[0m     plt\u001b[38;5;241m.\u001b[39mshow()\n\u001b[0;32m     41\u001b[0m \u001b[38;5;66;03m# Rosanna Temperatur\u001b[39;00m\n\u001b[1;32m---> 42\u001b[0m df_scatter_rosanna \u001b[38;5;241m=\u001b[39m \u001b[43mdf_rosanna_filtered\u001b[49m[[time, \u001b[38;5;124m'\u001b[39m\u001b[38;5;124mtemperature\u001b[39m\u001b[38;5;124m'\u001b[39m]]\u001b[38;5;241m.\u001b[39mmerge(df_avg[[time, \u001b[38;5;124m'\u001b[39m\u001b[38;5;124mtemperature_avg\u001b[39m\u001b[38;5;124m'\u001b[39m]], on\u001b[38;5;241m=\u001b[39mtime, how\u001b[38;5;241m=\u001b[39m\u001b[38;5;124m'\u001b[39m\u001b[38;5;124minner\u001b[39m\u001b[38;5;124m'\u001b[39m)\n\u001b[0;32m     43\u001b[0m plot_regression(df_scatter_rosanna, \u001b[38;5;124m\"\u001b[39m\u001b[38;5;124mRosanna\u001b[39m\u001b[38;5;124m\"\u001b[39m, \u001b[38;5;124m'\u001b[39m\u001b[38;5;124mred\u001b[39m\u001b[38;5;124m'\u001b[39m)\n\u001b[0;32m     45\u001b[0m \u001b[38;5;66;03m#-----------------------------------------------------------------\u001b[39;00m\n\u001b[0;32m     46\u001b[0m \n\u001b[0;32m     47\u001b[0m \u001b[38;5;66;03m# Mrs. Robinson Temperatur\u001b[39;00m\n",
      "\u001b[1;31mNameError\u001b[0m: name 'df_rosanna_filtered' is not defined"
     ]
    }
   ],
   "source": [
    "def plot_regression(df_scatter, station_name, color):\n",
    "    # Überprüfung der Min- und Max-Werte der Temperaturdaten\n",
    "    temp_min = df_scatter['temperature'].min()\n",
    "    temp_max = df_scatter['temperature'].max()\n",
    "    temp_avg_min = df_scatter['temperature_avg'].min()\n",
    "    temp_avg_max = df_scatter['temperature_avg'].max()\n",
    "    \n",
    "    print(f\"{station_name} - Temperature Min: {temp_min}, Max: {temp_max}\")\n",
    "    print(f\"{station_name} - Avg Temperature Min: {temp_avg_min}, Max: {temp_avg_max}\")\n",
    "    \n",
    "    # Durchführung der linearen Regression\n",
    "    slope, intercept, r_value, p_value, std_err = linregress(df_scatter['temperature_avg'], df_scatter['temperature'])\n",
    "    \n",
    "    # Ausgabe der Regressionsparameter\n",
    "    print(f\"Regression parameters for {station_name}:\")\n",
    "    print(f\"Slope: {slope:.4f}, Intercept: {intercept:.4f}, R: {r_value:.4f}, R²: {r_value**2:.4f}\")\n",
    "    \n",
    "    # Wenn der R²-Wert zu klein ist, ignorieren wir die Regressionslinie\n",
    "    if r_value**2 < 0.1:\n",
    "        print(f\"Warning: R² is too small for {station_name}. Skipping regression.\")\n",
    "        regression_line = None\n",
    "    else:\n",
    "        regression_line = slope * df_scatter['temperature_avg'] + intercept\n",
    "    \n",
    "    # Plotten\n",
    "    plt.figure(figsize=(8, 6))\n",
    "    plt.scatter(df_scatter['temperature_avg'], df_scatter['temperature'], color=color, alpha=0.5)\n",
    "    \n",
    "    # Wenn Regression existiert, plotte die Regressionslinie\n",
    "    if regression_line is not None:\n",
    "        plt.plot(df_scatter['temperature_avg'], regression_line, color='black', linewidth=2)\n",
    "    \n",
    "    equation_text = f'Y({station_name}) = {slope:.2f}X + {intercept:.2f}\\n$R^2 = {r_value**2:.2f}$'\n",
    "    plt.text(0.05, 0.95, equation_text, transform=plt.gca().transAxes, fontsize=12, verticalalignment='top', horizontalalignment='left', color='black')\n",
    "    \n",
    "    plt.xlabel('Average Temperature [°C]')\n",
    "    plt.ylabel(f'Temperature {station_name} [°C]')\n",
    "    plt.grid(True)\n",
    "    plt.show()\n",
    "\n",
    "# Rosanna Temperatur\n",
    "df_scatter_rosanna = df_rosanna_filtered[[time, 'temperature']].merge(df_avg[[time, 'temperature_avg']], on=time, how='inner')\n",
    "plot_regression(df_scatter_rosanna, \"Rosanna\", 'red')\n",
    "\n",
    "#-----------------------------------------------------------------\n",
    "\n",
    "# Mrs. Robinson Temperatur\n",
    "df_scatter_mrsrobinson = df_mrsrobinson_filtered[[time, 'temperature']].merge(df_avg[[time, 'temperature_avg']], on=time, how='inner')\n",
    "plot_regression(df_scatter_mrsrobinson, \"Mrs. Robinson\", 'green')\n",
    "\n",
    "#-----------------------------------------------------------------\n",
    "\n",
    "# Bette Davis Temperatur\n",
    "df_scatter_bettedavis = df_bettedavis_filtered[[time, 'temperature']].merge(df_avg[[time, 'temperature_avg']], on=time, how='inner')\n",
    "plot_regression(df_scatter_bettedavis, \"Bette Davis\", 'purple')"
   ]
  },
  {
   "cell_type": "code",
   "execution_count": 42,
   "metadata": {},
   "outputs": [
    {
     "ename": "NameError",
     "evalue": "name 'df_scatter_tomjoad' is not defined",
     "output_type": "error",
     "traceback": [
      "\u001b[1;31m---------------------------------------------------------------------------\u001b[0m",
      "\u001b[1;31mNameError\u001b[0m                                 Traceback (most recent call last)",
      "Cell \u001b[1;32mIn[42], line 2\u001b[0m\n\u001b[0;32m      1\u001b[0m \u001b[38;5;66;03m# Überprüfen, ob es NaN-Werte gibt für Tom Joad\u001b[39;00m\n\u001b[1;32m----> 2\u001b[0m nan_count_temp \u001b[38;5;241m=\u001b[39m \u001b[43mdf_scatter_tomjoad\u001b[49m[\u001b[38;5;124m'\u001b[39m\u001b[38;5;124mtemperature\u001b[39m\u001b[38;5;124m'\u001b[39m]\u001b[38;5;241m.\u001b[39misna()\u001b[38;5;241m.\u001b[39msum()\n\u001b[0;32m      3\u001b[0m nan_count_temp_avg \u001b[38;5;241m=\u001b[39m df_scatter_tomjoad[\u001b[38;5;124m'\u001b[39m\u001b[38;5;124mtemperature_avg\u001b[39m\u001b[38;5;124m'\u001b[39m]\u001b[38;5;241m.\u001b[39misna()\u001b[38;5;241m.\u001b[39msum()\n\u001b[0;32m      5\u001b[0m \u001b[38;5;28mprint\u001b[39m(\u001b[38;5;124mf\u001b[39m\u001b[38;5;124m\"\u001b[39m\u001b[38;5;124mTom Joad - NaN count in temperature: \u001b[39m\u001b[38;5;132;01m{\u001b[39;00mnan_count_temp\u001b[38;5;132;01m}\u001b[39;00m\u001b[38;5;124m\"\u001b[39m)\n",
      "\u001b[1;31mNameError\u001b[0m: name 'df_scatter_tomjoad' is not defined"
     ]
    }
   ],
   "source": [
    "# Überprüfen, ob es NaN-Werte gibt für Tom Joad\n",
    "nan_count_temp = df_scatter_tomjoad['temperature'].isna().sum()\n",
    "nan_count_temp_avg = df_scatter_tomjoad['temperature_avg'].isna().sum()\n",
    "\n",
    "print(f\"Tom Joad - NaN count in temperature: {nan_count_temp}\")\n",
    "print(f\"Tom Joad - NaN count in temperature_avg: {nan_count_temp_avg}\")\n",
    "\n",
    "# Überprüfen, ob es wenig Variation gibt (d.h., konstante Werte) für Tom Joad\n",
    "temp_variance = df_scatter_tomjoad['temperature'].var()\n",
    "temp_avg_variance = df_scatter_tomjoad['temperature_avg'].var()\n",
    "\n",
    "print(f\"Tom Joad - Temperature Variance: {temp_variance}\")\n",
    "print(f\"Tom Joad - Avg Temperature Variance: {temp_avg_variance}\")\n",
    "\n",
    "# Wenn NaN-Werte vorhanden sind, diese aus den Daten entfernen für Tom Joad\n",
    "df_scatter_tomjoad_clean = df_scatter_tomjoad.dropna(subset=['temperature', 'temperature_avg'])\n",
    "\n",
    "# Wenn die Daten sehr wenig Variation haben, könnte eine Regression nicht sinnvoll sein\n",
    "if temp_variance == 0 or temp_avg_variance == 0:\n",
    "    print(f\"Warning: The data for Tom Joad has very little variation (variance = 0). A regression may not be possible.\")\n",
    "else:\n",
    "    # Führe die Regression nur aus, wenn es genug Variation gibt\n",
    "    slope, intercept, r_value, p_value, std_err = linregress(df_scatter_tomjoad_clean['temperature_avg'], df_scatter_tomjoad_clean['temperature'])\n",
    "    regression_line = slope * df_scatter_tomjoad_clean['temperature_avg'] + intercept\n",
    "    \n",
    "    # Ausgabe der Regressionsparameter für Tom Joad\n",
    "    print(f\"Regression parameters for Tom Joad after cleaning data:\")\n",
    "    print(f\"Slope: {slope:.4f}, Intercept: {intercept:.4f}, R: {r_value:.4f}, R²: {r_value**2:.4f}\")\n",
    "    \n",
    "    # Plotten für Tom Joad\n",
    "    plt.figure(figsize=(8, 6))\n",
    "    plt.scatter(df_scatter_tomjoad_clean['temperature_avg'], df_scatter_tomjoad_clean['temperature'], color='orange', alpha=0.5)\n",
    "    \n",
    "    # Wenn Regression existiert, plotte die Regressionslinie\n",
    "    if r_value**2 >= 0.1:\n",
    "        plt.plot(df_scatter_tomjoad_clean['temperature_avg'], regression_line, color='black', linewidth=2)\n",
    "    \n",
    "    equation_text = f'Y(Tom Joad) = {slope:.2f}X + {intercept:.2f}\\n$R^2 = {r_value**2:.2f}$'\n",
    "    plt.text(0.05, 0.95, equation_text, transform=plt.gca().transAxes, fontsize=12, verticalalignment='top', horizontalalignment='left', color='black')\n",
    "    \n",
    "    plt.xlabel('Average Temperature [°C]')\n",
    "    plt.ylabel('Temperature Tom Joad [°C]')\n",
    "    plt.grid(True)\n",
    "    plt.show()\n"
   ]
  },
  {
   "cell_type": "markdown",
   "metadata": {},
   "source": [
    "relative humidity: time series + average"
   ]
  },
  {
   "cell_type": "code",
   "execution_count": 43,
   "metadata": {},
   "outputs": [
    {
     "ename": "NameError",
     "evalue": "name 'df_layla_filtered' is not defined",
     "output_type": "error",
     "traceback": [
      "\u001b[1;31m---------------------------------------------------------------------------\u001b[0m",
      "\u001b[1;31mNameError\u001b[0m                                 Traceback (most recent call last)",
      "Cell \u001b[1;32mIn[43], line 4\u001b[0m\n\u001b[0;32m      1\u001b[0m \u001b[38;5;28;01mimport\u001b[39;00m\u001b[38;5;250m \u001b[39m\u001b[38;5;21;01mmatplotlib\u001b[39;00m\u001b[38;5;21;01m.\u001b[39;00m\u001b[38;5;21;01mticker\u001b[39;00m\u001b[38;5;250m \u001b[39m\u001b[38;5;28;01mas\u001b[39;00m\u001b[38;5;250m \u001b[39m\u001b[38;5;21;01mticker\u001b[39;00m\n\u001b[0;32m      3\u001b[0m \u001b[38;5;66;03m# Sicherstellen, dass die 'rel_humidity' Spalte als numerischer Datentyp vorliegt\u001b[39;00m\n\u001b[1;32m----> 4\u001b[0m df_layla_filtered[\u001b[38;5;124m'\u001b[39m\u001b[38;5;124mrel_humidity\u001b[39m\u001b[38;5;124m'\u001b[39m] \u001b[38;5;241m=\u001b[39m pd\u001b[38;5;241m.\u001b[39mto_numeric(\u001b[43mdf_layla_filtered\u001b[49m[\u001b[38;5;124m'\u001b[39m\u001b[38;5;124mrel_humidity\u001b[39m\u001b[38;5;124m'\u001b[39m], errors\u001b[38;5;241m=\u001b[39m\u001b[38;5;124m'\u001b[39m\u001b[38;5;124mcoerce\u001b[39m\u001b[38;5;124m'\u001b[39m)\n\u001b[0;32m      5\u001b[0m df_rosanna_filtered[\u001b[38;5;124m'\u001b[39m\u001b[38;5;124mrel_humidity\u001b[39m\u001b[38;5;124m'\u001b[39m] \u001b[38;5;241m=\u001b[39m pd\u001b[38;5;241m.\u001b[39mto_numeric(df_rosanna_filtered[\u001b[38;5;124m'\u001b[39m\u001b[38;5;124mrel_humidity\u001b[39m\u001b[38;5;124m'\u001b[39m], errors\u001b[38;5;241m=\u001b[39m\u001b[38;5;124m'\u001b[39m\u001b[38;5;124mcoerce\u001b[39m\u001b[38;5;124m'\u001b[39m)\n\u001b[0;32m      6\u001b[0m df_mrsrobinson_filtered[\u001b[38;5;124m'\u001b[39m\u001b[38;5;124mrel_humidity\u001b[39m\u001b[38;5;124m'\u001b[39m] \u001b[38;5;241m=\u001b[39m pd\u001b[38;5;241m.\u001b[39mto_numeric(df_mrsrobinson_filtered[\u001b[38;5;124m'\u001b[39m\u001b[38;5;124mrel_humidity\u001b[39m\u001b[38;5;124m'\u001b[39m], errors\u001b[38;5;241m=\u001b[39m\u001b[38;5;124m'\u001b[39m\u001b[38;5;124mcoerce\u001b[39m\u001b[38;5;124m'\u001b[39m)\n",
      "\u001b[1;31mNameError\u001b[0m: name 'df_layla_filtered' is not defined"
     ]
    }
   ],
   "source": [
    "import matplotlib.ticker as ticker\n",
    "\n",
    "# Sicherstellen, dass die 'rel_humidity' Spalte als numerischer Datentyp vorliegt\n",
    "df_layla_filtered['rel_humidity'] = pd.to_numeric(df_layla_filtered['rel_humidity'], errors='coerce')\n",
    "df_rosanna_filtered['rel_humidity'] = pd.to_numeric(df_rosanna_filtered['rel_humidity'], errors='coerce')\n",
    "df_mrsrobinson_filtered['rel_humidity'] = pd.to_numeric(df_mrsrobinson_filtered['rel_humidity'], errors='coerce')\n",
    "df_bettedavis_filtered['rel_humidity'] = pd.to_numeric(df_bettedavis_filtered['rel_humidity'], errors='coerce')\n",
    "df_tomjoad_filtered['rel_humidity'] = pd.to_numeric(df_tomjoad_filtered['rel_humidity'], errors='coerce')\n",
    "\n",
    "# Entfernen des ersten Werts aus den Daten\n",
    "df_layla_filtered = df_layla_filtered.iloc[7:]\n",
    "df_rosanna_filtered = df_rosanna_filtered.iloc[7:]\n",
    "df_mrsrobinson_filtered = df_mrsrobinson_filtered.iloc[7:]\n",
    "df_bettedavis_filtered = df_bettedavis_filtered.iloc[7:]\n",
    "df_tomjoad_filtered = df_tomjoad_filtered.iloc[7:]\n",
    "\n",
    "# Auch für den Mittelwert\n",
    "df_avg = df_avg.iloc[7:]\n",
    "\n",
    "# Liniendiagramm für relative Luftfeuchtigkeit\n",
    "plt.figure(figsize=(12, 6))\n",
    "\n",
    "# Liniendiagramme für jede Station\n",
    "plt.plot(df_layla_filtered[time], df_layla_filtered['rel_humidity'], label='Layla', color='blue', linewidth=0.5)\n",
    "plt.plot(df_rosanna_filtered[time], df_rosanna_filtered['rel_humidity'], label='Rosanna', color='red', linewidth=0.5)\n",
    "plt.plot(df_mrsrobinson_filtered[time], df_mrsrobinson_filtered['rel_humidity'], label='Mrs. Robinson', color='green', linewidth=0.5)\n",
    "plt.plot(df_bettedavis_filtered[time], df_bettedavis_filtered['rel_humidity'], label='Bette Davis', color='purple', linewidth=0.5)\n",
    "plt.plot(df_tomjoad_filtered[time], df_tomjoad_filtered['rel_humidity'], label='Tom Joad', color='orange', linewidth=0.5)\n",
    "\n",
    "# Liniendiagramm für den Mittelwert\n",
    "plt.plot(df_avg[time], df_avg['rel_humidity_avg'], label='mean relative humidity', color='black', linewidth=1)\n",
    "\n",
    "# Diagramm formatieren\n",
    "plt.xlabel('time')\n",
    "plt.ylabel('relative humidity [%]')\n",
    "plt.legend()\n",
    "\n",
    "# Y-Achse nach Größe der Werte sortieren\n",
    "plt.gca().yaxis.set_major_locator(ticker.MaxNLocator(integer=True, prune='lower'))\n",
    "\n",
    "# Manuell den Bereich der Y-Achse auf 0 bis 100 setzen\n",
    "plt.ylim(40, 100)\n",
    "\n",
    "# Diagramm anzeigen\n",
    "plt.show()\n",
    "\n",
    "# Optional: Diagramm als Bild speichern\n",
    "# plt.savefig(\"allstations_rel_humidity.png\", dpi=300)\n"
   ]
  },
  {
   "cell_type": "markdown",
   "metadata": {},
   "source": [
    "calibrations"
   ]
  },
  {
   "cell_type": "code",
   "execution_count": 44,
   "metadata": {},
   "outputs": [
    {
     "ename": "NameError",
     "evalue": "name 'df_scatter_layla' is not defined",
     "output_type": "error",
     "traceback": [
      "\u001b[1;31m---------------------------------------------------------------------------\u001b[0m",
      "\u001b[1;31mNameError\u001b[0m                                 Traceback (most recent call last)",
      "Cell \u001b[1;32mIn[44], line 2\u001b[0m\n\u001b[0;32m      1\u001b[0m \u001b[38;5;66;03m# Überprüfen, ob es NaN-Werte gibt\u001b[39;00m\n\u001b[1;32m----> 2\u001b[0m nan_count_humidity \u001b[38;5;241m=\u001b[39m \u001b[43mdf_scatter_layla\u001b[49m[\u001b[38;5;124m'\u001b[39m\u001b[38;5;124mrel_humidity\u001b[39m\u001b[38;5;124m'\u001b[39m]\u001b[38;5;241m.\u001b[39misna()\u001b[38;5;241m.\u001b[39msum()\n\u001b[0;32m      3\u001b[0m nan_count_humidity_avg \u001b[38;5;241m=\u001b[39m df_scatter_layla[\u001b[38;5;124m'\u001b[39m\u001b[38;5;124mrel_humidity_avg\u001b[39m\u001b[38;5;124m'\u001b[39m]\u001b[38;5;241m.\u001b[39misna()\u001b[38;5;241m.\u001b[39msum()\n\u001b[0;32m      5\u001b[0m \u001b[38;5;28mprint\u001b[39m(\u001b[38;5;124mf\u001b[39m\u001b[38;5;124m\"\u001b[39m\u001b[38;5;124mLayla - NaN count in rel_humidity: \u001b[39m\u001b[38;5;132;01m{\u001b[39;00mnan_count_humidity\u001b[38;5;132;01m}\u001b[39;00m\u001b[38;5;124m\"\u001b[39m)\n",
      "\u001b[1;31mNameError\u001b[0m: name 'df_scatter_layla' is not defined"
     ]
    }
   ],
   "source": [
    "# Überprüfen, ob es NaN-Werte gibt\n",
    "nan_count_humidity = df_scatter_layla['rel_humidity'].isna().sum()\n",
    "nan_count_humidity_avg = df_scatter_layla['rel_humidity_avg'].isna().sum()\n",
    "\n",
    "print(f\"Layla - NaN count in rel_humidity: {nan_count_humidity}\")\n",
    "print(f\"Layla - NaN count in rel_humidity_avg: {nan_count_humidity_avg}\")\n",
    "\n",
    "# Überprüfen, ob es wenig Variation gibt (d.h., konstante Werte)\n",
    "humidity_variance = df_scatter_layla['rel_humidity'].var()\n",
    "humidity_avg_variance = df_scatter_layla['rel_humidity_avg'].var()\n",
    "\n",
    "print(f\"Layla - Relative Humidity Variance: {humidity_variance}\")\n",
    "print(f\"Layla - Avg Relative Humidity Variance: {humidity_avg_variance}\")\n",
    "\n",
    "# Wenn NaN-Werte vorhanden sind, diese aus den Daten entfernen\n",
    "df_scatter_layla_clean = df_scatter_layla.dropna(subset=['rel_humidity', 'rel_humidity_avg'])\n",
    "\n",
    "# Wenn die Daten sehr wenig Variation haben, könnte eine Regression nicht sinnvoll sein\n",
    "if humidity_variance == 0 or humidity_avg_variance == 0:\n",
    "    print(f\"Warning: The data for Layla has very little variation (variance = 0). A regression may not be possible.\")\n",
    "else:\n",
    "    # Führe die Regression nur aus, wenn es genug Variation gibt\n",
    "    slope, intercept, r_value, p_value, std_err = linregress(df_scatter_layla_clean['rel_humidity_avg'], df_scatter_layla_clean['rel_humidity'])\n",
    "    regression_line = slope * df_scatter_layla_clean['rel_humidity_avg'] + intercept\n",
    "    \n",
    "    # Ausgabe der Regressionsparameter\n",
    "    print(f\"Regression parameters for Layla after cleaning data:\")\n",
    "    print(f\"Slope: {slope:.4f}, Intercept: {intercept:.4f}, R: {r_value:.4f}, R²: {r_value**2:.4f}\")\n",
    "    \n",
    "    # Plotten\n",
    "    plt.figure(figsize=(8, 6))\n",
    "    plt.scatter(df_scatter_layla_clean['rel_humidity_avg'], df_scatter_layla_clean['rel_humidity'], color='blue', alpha=0.5)\n",
    "    \n",
    "    # Wenn Regression existiert, plotte die Regressionslinie\n",
    "    if r_value**2 >= 0.1:\n",
    "        plt.plot(df_scatter_layla_clean['rel_humidity_avg'], regression_line, color='black', linewidth=2)\n",
    "    \n",
    "    equation_text = f'Y(Layla) = {slope:.2f}X + {intercept:.2f}\\n$R^2 = {r_value**2:.2f}$'\n",
    "    plt.text(0.05, 0.95, equation_text, transform=plt.gca().transAxes, fontsize=12, verticalalignment='top', horizontalalignment='left', color='black')\n",
    "    \n",
    "    plt.xlabel('Average Relative Humidity [%]')\n",
    "    plt.ylabel('Relative Humidity Layla [%]')\n",
    "    plt.grid(True)\n",
    "    plt.show()\n"
   ]
  },
  {
   "cell_type": "code",
   "execution_count": 45,
   "metadata": {},
   "outputs": [
    {
     "ename": "NameError",
     "evalue": "name 'df_rosanna_filtered' is not defined",
     "output_type": "error",
     "traceback": [
      "\u001b[1;31m---------------------------------------------------------------------------\u001b[0m",
      "\u001b[1;31mNameError\u001b[0m                                 Traceback (most recent call last)",
      "Cell \u001b[1;32mIn[45], line 2\u001b[0m\n\u001b[0;32m      1\u001b[0m \u001b[38;5;66;03m# Rosanna Relative Humidity\u001b[39;00m\n\u001b[1;32m----> 2\u001b[0m df_scatter_rosanna \u001b[38;5;241m=\u001b[39m \u001b[43mdf_rosanna_filtered\u001b[49m[[time, \u001b[38;5;124m'\u001b[39m\u001b[38;5;124mrel_humidity\u001b[39m\u001b[38;5;124m'\u001b[39m]]\u001b[38;5;241m.\u001b[39mmerge(df_avg[[time, \u001b[38;5;124m'\u001b[39m\u001b[38;5;124mrel_humidity_avg\u001b[39m\u001b[38;5;124m'\u001b[39m]], on\u001b[38;5;241m=\u001b[39mtime, how\u001b[38;5;241m=\u001b[39m\u001b[38;5;124m'\u001b[39m\u001b[38;5;124minner\u001b[39m\u001b[38;5;124m'\u001b[39m)\n\u001b[0;32m      4\u001b[0m slope, intercept, r_value, p_value, std_err \u001b[38;5;241m=\u001b[39m linregress(df_scatter_rosanna[\u001b[38;5;124m'\u001b[39m\u001b[38;5;124mrel_humidity_avg\u001b[39m\u001b[38;5;124m'\u001b[39m], df_scatter_rosanna[\u001b[38;5;124m'\u001b[39m\u001b[38;5;124mrel_humidity\u001b[39m\u001b[38;5;124m'\u001b[39m])\n\u001b[0;32m      5\u001b[0m regression_line \u001b[38;5;241m=\u001b[39m slope \u001b[38;5;241m*\u001b[39m df_scatter_rosanna[\u001b[38;5;124m'\u001b[39m\u001b[38;5;124mrel_humidity_avg\u001b[39m\u001b[38;5;124m'\u001b[39m] \u001b[38;5;241m+\u001b[39m intercept\n",
      "\u001b[1;31mNameError\u001b[0m: name 'df_rosanna_filtered' is not defined"
     ]
    }
   ],
   "source": [
    "# Rosanna Relative Humidity\n",
    "df_scatter_rosanna = df_rosanna_filtered[[time, 'rel_humidity']].merge(df_avg[[time, 'rel_humidity_avg']], on=time, how='inner')\n",
    "\n",
    "slope, intercept, r_value, p_value, std_err = linregress(df_scatter_rosanna['rel_humidity_avg'], df_scatter_rosanna['rel_humidity'])\n",
    "regression_line = slope * df_scatter_rosanna['rel_humidity_avg'] + intercept\n",
    "\n",
    "plt.figure(figsize=(8, 6))\n",
    "plt.scatter(df_scatter_rosanna['rel_humidity_avg'], df_scatter_rosanna['rel_humidity'], color='red', alpha=0.5)\n",
    "plt.plot(df_scatter_rosanna['rel_humidity_avg'], regression_line, color='black', linewidth=2)\n",
    "\n",
    "equation_text = f'Y(Rosanna) = {slope:.2f}X + {intercept:.2f}\\n$R^2 = {r_value**2:.2f}$'\n",
    "\n",
    "plt.text(0.05, 0.95, equation_text, transform=plt.gca().transAxes, fontsize=12, verticalalignment='top', horizontalalignment='left', color='black')\n",
    "plt.xlabel('Average Relative Humidity [%]')\n",
    "plt.ylabel('Relative Humidity Rosanna [%]')\n",
    "plt.grid(True)\n",
    "\n",
    "#plt.savefig(\"scatter_rosanna_rel_humidity.png\", dpi=300)\n",
    "\n",
    "plt.show()\n",
    "\n",
    "#-----------------------------------------------------------------\n",
    "\n",
    "# Mrs. Robinson Relative Humidity\n",
    "df_scatter_mrsrobinson = df_mrsrobinson_filtered[[time, 'rel_humidity']].merge(df_avg[[time, 'rel_humidity_avg']], on=time, how='inner')\n",
    "\n",
    "slope, intercept, r_value, p_value, std_err = linregress(df_scatter_mrsrobinson['rel_humidity_avg'], df_scatter_mrsrobinson['rel_humidity'])\n",
    "regression_line = slope * df_scatter_mrsrobinson['rel_humidity_avg'] + intercept\n",
    "\n",
    "plt.figure(figsize=(8, 6))\n",
    "plt.scatter(df_scatter_mrsrobinson['rel_humidity_avg'], df_scatter_mrsrobinson['rel_humidity'], color='green', alpha=0.5)\n",
    "plt.plot(df_scatter_mrsrobinson['rel_humidity_avg'], regression_line, color='black', linewidth=2)\n",
    "\n",
    "equation_text = f'Y(Mrs. Robinson) = {slope:.2f}X + {intercept:.2f}\\n$R^2 = {r_value**2:.2f}$'\n",
    "\n",
    "plt.text(0.05, 0.95, equation_text, transform=plt.gca().transAxes, fontsize=12, verticalalignment='top', horizontalalignment='left', color='black')\n",
    "plt.xlabel('Average Relative Humidity [%]')\n",
    "plt.ylabel('Relative Humidity Mrs. Robinson [%]')\n",
    "plt.grid(True)\n",
    "\n",
    "#plt.savefig(\"scatter_mrsrobinson_rel_humidity.png\", dpi=300)\n",
    "\n",
    "plt.show()\n",
    "\n",
    "#--------------------------------------------------------------------------------------------------------------------\n",
    "\n",
    "# Bette Davis Relative Humidity\n",
    "df_scatter_bettedavis = df_bettedavis_filtered[[time, 'rel_humidity']].merge(df_avg[[time, 'rel_humidity_avg']], on=time, how='inner')\n",
    "\n",
    "slope, intercept, r_value, p_value, std_err = linregress(df_scatter_bettedavis['rel_humidity_avg'], df_scatter_bettedavis['rel_humidity'])\n",
    "regression_line = slope * df_scatter_bettedavis['rel_humidity_avg'] + intercept\n",
    "\n",
    "plt.figure(figsize=(8, 6))\n",
    "plt.scatter(df_scatter_bettedavis['rel_humidity_avg'], df_scatter_bettedavis['rel_humidity'], color='purple', alpha=0.5)\n",
    "plt.plot(df_scatter_bettedavis['rel_humidity_avg'], regression_line, color='black', linewidth=2)\n",
    "\n",
    "equation_text = f'Y(Bette Davis) = {slope:.2f}X + {intercept:.2f}\\n$R^2 = {r_value**2:.2f}$'\n",
    "\n",
    "plt.text(0.05, 0.95, equation_text, transform=plt.gca().transAxes, fontsize=12, verticalalignment='top', horizontalalignment='left', color='black')\n",
    "plt.xlabel('Average Relative Humidity [%]')\n",
    "plt.ylabel('Relative Humidity Bette Davis [%]')\n",
    "plt.grid(True)\n",
    "\n",
    "#plt.savefig(\"scatter_bettedavis_rel_humidity.png\", dpi=300)\n",
    "\n",
    "plt.show()\n"
   ]
  },
  {
   "cell_type": "code",
   "execution_count": null,
   "metadata": {},
   "outputs": [],
   "source": []
  }
 ],
 "metadata": {
  "kernelspec": {
   "display_name": "Boundary_Layer",
   "language": "python",
   "name": "python3"
  },
  "language_info": {
   "codemirror_mode": {
    "name": "ipython",
    "version": 3
   },
   "file_extension": ".py",
   "mimetype": "text/x-python",
   "name": "python",
   "nbconvert_exporter": "python",
   "pygments_lexer": "ipython3",
   "version": "3.13.1"
  }
 },
 "nbformat": 4,
 "nbformat_minor": 2
}
