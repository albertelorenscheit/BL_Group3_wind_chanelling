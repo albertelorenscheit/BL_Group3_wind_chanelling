{
 "cells": [
  {
   "cell_type": "code",
   "execution_count": 13,
   "metadata": {},
   "outputs": [
    {
     "ename": "ModuleNotFoundError",
     "evalue": "No module named 'dask'",
     "output_type": "error",
     "traceback": [
      "\u001b[1;31m---------------------------------------------------------------------------\u001b[0m",
      "\u001b[1;31mModuleNotFoundError\u001b[0m                       Traceback (most recent call last)",
      "Cell \u001b[1;32mIn[13], line 7\u001b[0m\n\u001b[0;32m      5\u001b[0m \u001b[38;5;28;01mimport\u001b[39;00m\u001b[38;5;250m \u001b[39m\u001b[38;5;21;01mpandas\u001b[39;00m\u001b[38;5;250m \u001b[39m\u001b[38;5;28;01mas\u001b[39;00m\u001b[38;5;250m \u001b[39m\u001b[38;5;21;01mpd\u001b[39;00m\n\u001b[0;32m      6\u001b[0m \u001b[38;5;28;01mimport\u001b[39;00m\u001b[38;5;250m \u001b[39m\u001b[38;5;21;01mos\u001b[39;00m\n\u001b[1;32m----> 7\u001b[0m \u001b[38;5;28;01mimport\u001b[39;00m\u001b[38;5;250m \u001b[39m\u001b[38;5;21;01mdask\u001b[39;00m\u001b[38;5;21;01m.\u001b[39;00m\u001b[38;5;21;01mdataframe\u001b[39;00m\u001b[38;5;250m \u001b[39m\u001b[38;5;28;01mas\u001b[39;00m\u001b[38;5;250m \u001b[39m\u001b[38;5;21;01mddf\u001b[39;00m\n\u001b[0;32m      9\u001b[0m \u001b[38;5;28;01mimport\u001b[39;00m\u001b[38;5;250m \u001b[39m\u001b[38;5;21;01msys\u001b[39;00m\n\u001b[0;32m     10\u001b[0m sys\u001b[38;5;241m.\u001b[39mpath\u001b[38;5;241m.\u001b[39mappend(\u001b[38;5;124m\"\u001b[39m\u001b[38;5;124m..\u001b[39m\u001b[38;5;124m\"\u001b[39m)\n",
      "\u001b[1;31mModuleNotFoundError\u001b[0m: No module named 'dask'"
     ]
    }
   ],
   "source": [
    "import pandas as pd\n",
    "# import matplotlib.pyplot as plt\n",
    "# from scipy.interpolate import interp1d\n",
    "import numpy as np\n",
    "import pandas as pd\n",
    "import os\n",
    "import dask.dataframe as ddf\n",
    "\n",
    "import sys\n",
    "sys.path.append(\"..\")\n",
    "\n",
    "from channeling_lib import AWS_file_loader, load_path\n",
    "\n",
    "stations_str = ['Tom Joad','Rosanna','Bette Davis', 'Layla', 'Mrs Robinson']"
   ]
  },
  {
   "cell_type": "code",
   "execution_count": 5,
   "metadata": {},
   "outputs": [],
   "source": [
    "path = load_path()+'RawData/TinyTag/'\n",
    "instrument_textbook_name = load_path()+'instrument_textbook_BLcourse_spring2025(BL instruments).csv'"
   ]
  },
  {
   "cell_type": "markdown",
   "metadata": {},
   "source": [
    "# Load CEB files"
   ]
  },
  {
   "cell_type": "code",
   "execution_count": 9,
   "metadata": {},
   "outputs": [],
   "source": [
    "# pd.read_csv(path+'CEB_1/CEB_1_calibration_RO_20250125.txt', sep=\"\\t\", header=None) \n"
   ]
  },
  {
   "cell_type": "code",
   "execution_count": 12,
   "metadata": {},
   "outputs": [],
   "source": [
    "def read_Tinytag(filename, sensor):\n",
    "    '''\n",
    "    Reads data from one or several data files from the Tinytag output files.\n",
    "\n",
    "    Parameters:\n",
    "    -------\n",
    "    filename: str\n",
    "        String with path to file(s)\n",
    "        If several files shall be read, specify a string including UNIX-style wildcards\n",
    "    sensor: str\n",
    "        One of \"TT\", \"TH\" or \"CEB\"\n",
    "    Returns\n",
    "    -------\n",
    "    df : pandas dataframe\n",
    "        a pandas dataframe with time as index and the individual variables as columns.\n",
    "    '''\n",
    "\n",
    "    import dask.dataframe as ddf\n",
    "\n",
    "\n",
    "    if sensor == \"TT\":\n",
    "        df = ddf.read_csv(filename, delimiter=\"\\t\", skiprows=5, parse_dates=[1], date_format=\"%d %b %Y %H:%M:%S\", names=[\"RECORD\", \"TIMESTAMP\", \"T_black\", \"T_white\"], encoding = \"ISO-8859-1\")\n",
    "    elif sensor == \"TH\":\n",
    "        df = ddf.read_csv(filename, delimiter=\"\\t\", skiprows=5, parse_dates=[1], date_format=\"%d %b %Y %H:%M:%S\", names=[\"RECORD\", \"TIMESTAMP\", \"T\", \"RH\"], encoding = \"ISO-8859-1\")\n",
    "    elif sensor == \"CEB\":\n",
    "        df = ddf.read_csv(filename, delimiter=\"\\t\", skiprows=5, parse_dates=[1], date_format=\"%d %b %Y %H:%M:%S\", names=[\"RECORD\", \"TIMESTAMP\", \"T\"], encoding = \"ISO-8859-1\")\n",
    "    else:\n",
    "        assert False, 'Sensortype of Tinytag not known. Should be one of \"TT\", \"TH\" or \"CEB\".'\n",
    "\n",
    "    df = df.compute()\n",
    "    df.set_index(\"TIMESTAMP\", inplace=True)\n",
    "\n",
    "    for key in list(df.columns):\n",
    "        if key == \"RECORD\":\n",
    "            pass\n",
    "        else:\n",
    "            data = [float(i.split(\" \")[0]) for i in df[key]]\n",
    "            unit = df[key].iloc[0].split(\" \")[1]\n",
    "            if unit == \"°C\":\n",
    "                unit = \"degC\"\n",
    "            new_key = f\"{key}_{unit}\"\n",
    "\n",
    "            df[new_key] = data\n",
    "\n",
    "            df.drop(key, axis=1, inplace=True)\n",
    "\n",
    "    return df"
   ]
  }
 ],
 "metadata": {
  "kernelspec": {
   "display_name": "boundary_layer",
   "language": "python",
   "name": "python3"
  },
  "language_info": {
   "codemirror_mode": {
    "name": "ipython",
    "version": 3
   },
   "file_extension": ".py",
   "mimetype": "text/x-python",
   "name": "python",
   "nbconvert_exporter": "python",
   "pygments_lexer": "ipython3",
   "version": "3.13.1"
  }
 },
 "nbformat": 4,
 "nbformat_minor": 2
}
