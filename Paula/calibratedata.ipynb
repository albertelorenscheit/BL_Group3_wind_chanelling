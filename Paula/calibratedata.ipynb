{
 "cells": [
  {
   "cell_type": "code",
   "execution_count": 6,
   "metadata": {},
   "outputs": [
    {
     "ename": "ModuleNotFoundError",
     "evalue": "No module named 'pandas'",
     "output_type": "error",
     "traceback": [
      "\u001b[1;31m---------------------------------------------------------------------------\u001b[0m",
      "\u001b[1;31mModuleNotFoundError\u001b[0m                       Traceback (most recent call last)",
      "Cell \u001b[1;32mIn[6], line 1\u001b[0m\n\u001b[1;32m----> 1\u001b[0m \u001b[38;5;28;01mimport\u001b[39;00m\u001b[38;5;250m \u001b[39m\u001b[38;5;21;01mpandas\u001b[39;00m\u001b[38;5;250m \u001b[39m\u001b[38;5;28;01mas\u001b[39;00m\u001b[38;5;250m \u001b[39m\u001b[38;5;21;01mpd\u001b[39;00m\n\u001b[0;32m      2\u001b[0m \u001b[38;5;28;01mimport\u001b[39;00m\u001b[38;5;250m \u001b[39m\u001b[38;5;21;01mmatplotlib\u001b[39;00m\u001b[38;5;21;01m.\u001b[39;00m\u001b[38;5;21;01mpyplot\u001b[39;00m\u001b[38;5;250m \u001b[39m\u001b[38;5;28;01mas\u001b[39;00m\u001b[38;5;250m \u001b[39m\u001b[38;5;21;01mplt\u001b[39;00m\n\u001b[0;32m      3\u001b[0m \u001b[38;5;28;01mfrom\u001b[39;00m\u001b[38;5;250m \u001b[39m\u001b[38;5;21;01mscipy\u001b[39;00m\u001b[38;5;21;01m.\u001b[39;00m\u001b[38;5;21;01minterpolate\u001b[39;00m\u001b[38;5;250m \u001b[39m\u001b[38;5;28;01mimport\u001b[39;00m interp1d\n",
      "\u001b[1;31mModuleNotFoundError\u001b[0m: No module named 'pandas'"
     ]
    }
   ],
   "source": [
    "import pandas as pd\n",
    "import matplotlib.pyplot as plt\n",
    "from scipy.interpolate import interp1d\n",
    "import numpy as np\n",
    "import pandas as pd"
   ]
  },
  {
   "cell_type": "markdown",
   "metadata": {},
   "source": [
    "load data"
   ]
  },
  {
   "cell_type": "code",
   "execution_count": 3,
   "metadata": {},
   "outputs": [],
   "source": [
    "def AWS_file_loader(file_name):\n",
    "    df = pd.read_csv(file_name, skiprows=1).iloc[2:]\n",
    "    # read the file, skip one row that has useless info, and the first 2 rows\n",
    "    # of data because they are respectively units and nans\n",
    "    df.loc[:,'TIMESTAMP'] = df.TIMESTAMP.astype('datetime64[ns]')\n",
    "    # Change the format of datetime\n",
    "    df.set_index('TIMESTAMP', inplace=True)\n",
    "    # set the time as index\n",
    "    df = df.astype(float)\n",
    "    # change all other collumns to float\n",
    "    return df"
   ]
  },
  {
   "cell_type": "code",
   "execution_count": 4,
   "metadata": {},
   "outputs": [],
   "source": [
    "path = '/Data/RawData/AWS/'\n",
    "\n",
    "#station data raw\n",
    "#layla all\n",
    "raw_layla_20250130 = path + 'Layla/CR1000_Layla_Res_data_1_min_20240910_20250130_2025_01_30_09_54_45.dat'\n",
    "raw_layla_20250203 = path + 'Layla/CR1000_Layla_Res_data_1_min_20240910_20250203_2025_02_03_11_19_37.dat'\n",
    "\n",
    "#rosanna all\n",
    "raw_rosanna_20250131 =  path + 'Rosanna/CR200_Rosanna_Res_data_1_min_20240910_20250131_2025_01_31_11_09_07.dat'\n",
    "raw_rosanna_20250203 =  path + 'Rosanna/CR200_Rosanna_Res_data_1_min_20240910_20250203_2025_02_03_09_23_11.dat'\n",
    "\n",
    "#mrs robinson all\n",
    "raw_mrsrobinson_20250131 =  path + 'Mrs Robinson/CR200_MrsRobinson_Res_data_1_min_20240910_20250131_2025_01_31_16_10_22.dat'\n",
    "raw_mrsrobinson_20250203 =  path + 'Mrs Robinson/CR200_MrsRobinson_Res_data_1_min_20240910_20250203_2025_02_03_10_44_29.dat'\n",
    "\n",
    "#bette davis all\n",
    "raw_bettedavis_20250131 =  path + 'Bette Davis/CR200_BetteDavis_Res_data_1_min_20240910_20250131_2025_01_31_13_20_02.dat'\n",
    "raw_bettedavis_20250203 =  path + 'Bette Davis/CR200_BetteDavis_Res_data_1_min_20240910_20250203_2025_02_03_10_00_51.dat'\n",
    "\n",
    "#Tom joad all\n",
    "raw_tomjoad_20250130 =  path + 'Tom Joad/CR1000_TomJoad_Res_data_1_min_20240910_20250130_2025_01_30_11_01_43.dat'\n",
    "raw_tomjoad_20250203 =  path + 'Tom Joad/CR1000_TomJoad_Res_data_1_min_20240910_20250203_2025_02_03_13_46_13.dat'"
   ]
  },
  {
   "cell_type": "markdown",
   "metadata": {
    "vscode": {
     "languageId": "plaintext"
    }
   },
   "source": [
    "slice"
   ]
  },
  {
   "cell_type": "code",
   "execution_count": 5,
   "metadata": {},
   "outputs": [
    {
     "ename": "NameError",
     "evalue": "name 'pd' is not defined",
     "output_type": "error",
     "traceback": [
      "\u001b[1;31m---------------------------------------------------------------------------\u001b[0m",
      "\u001b[1;31mNameError\u001b[0m                                 Traceback (most recent call last)",
      "Cell \u001b[1;32mIn[5], line 4\u001b[0m\n\u001b[0;32m      1\u001b[0m \u001b[38;5;66;03m#values from excel sheet\u001b[39;00m\n\u001b[0;32m      2\u001b[0m manual_times \u001b[38;5;241m=\u001b[39m {\n\u001b[0;32m      3\u001b[0m     \u001b[38;5;124m\"\u001b[39m\u001b[38;5;124mLayla\u001b[39m\u001b[38;5;124m\"\u001b[39m: {\n\u001b[1;32m----> 4\u001b[0m         \u001b[38;5;124m\"\u001b[39m\u001b[38;5;124msetup_time\u001b[39m\u001b[38;5;124m\"\u001b[39m: \u001b[43mpd\u001b[49m\u001b[38;5;241m.\u001b[39mto_datetime(\u001b[38;5;124m\"\u001b[39m\u001b[38;5;124m2025-01-26 11:30:00\u001b[39m\u001b[38;5;124m\"\u001b[39m),\n\u001b[0;32m      5\u001b[0m         \u001b[38;5;124m\"\u001b[39m\u001b[38;5;124mmaintenance_start_time\u001b[39m\u001b[38;5;124m\"\u001b[39m: pd\u001b[38;5;241m.\u001b[39mto_datetime(\u001b[38;5;124m\"\u001b[39m\u001b[38;5;124m2025-01-28 09:35:00\u001b[39m\u001b[38;5;124m\"\u001b[39m),\n\u001b[0;32m      6\u001b[0m         \u001b[38;5;124m\"\u001b[39m\u001b[38;5;124mmaintenance_duration\u001b[39m\u001b[38;5;124m\"\u001b[39m: \u001b[38;5;241m1\u001b[39m,  \u001b[38;5;66;03m# Minuten\u001b[39;00m\n\u001b[0;32m      7\u001b[0m         \u001b[38;5;124m\"\u001b[39m\u001b[38;5;124mretrieval_time\u001b[39m\u001b[38;5;124m\"\u001b[39m: pd\u001b[38;5;241m.\u001b[39mto_datetime(\u001b[38;5;124m\"\u001b[39m\u001b[38;5;124m2025-02-03 11:05:00\u001b[39m\u001b[38;5;124m\"\u001b[39m)\n\u001b[0;32m      8\u001b[0m     },\n\u001b[0;32m      9\u001b[0m     \u001b[38;5;124m\"\u001b[39m\u001b[38;5;124mRosanna\u001b[39m\u001b[38;5;124m\"\u001b[39m: {\n\u001b[0;32m     10\u001b[0m         \u001b[38;5;124m\"\u001b[39m\u001b[38;5;124msetup_time\u001b[39m\u001b[38;5;124m\"\u001b[39m: pd\u001b[38;5;241m.\u001b[39mto_datetime(\u001b[38;5;124m\"\u001b[39m\u001b[38;5;124m2025-01-27 10:35:00\u001b[39m\u001b[38;5;124m\"\u001b[39m),\n\u001b[0;32m     11\u001b[0m         \u001b[38;5;124m\"\u001b[39m\u001b[38;5;124mmaintenance_start_time\u001b[39m\u001b[38;5;124m\"\u001b[39m: pd\u001b[38;5;241m.\u001b[39mto_datetime(\u001b[38;5;124m\"\u001b[39m\u001b[38;5;124m2025-01-31 10:45:00\u001b[39m\u001b[38;5;124m\"\u001b[39m),\n\u001b[0;32m     12\u001b[0m         \u001b[38;5;124m\"\u001b[39m\u001b[38;5;124mmaintenance_duration\u001b[39m\u001b[38;5;124m\"\u001b[39m: \u001b[38;5;241m50\u001b[39m,  \u001b[38;5;66;03m# Minuten\u001b[39;00m\n\u001b[0;32m     13\u001b[0m         \u001b[38;5;124m\"\u001b[39m\u001b[38;5;124mretrieval_time\u001b[39m\u001b[38;5;124m\"\u001b[39m: pd\u001b[38;5;241m.\u001b[39mto_datetime(\u001b[38;5;124m\"\u001b[39m\u001b[38;5;124m2025-02-03 09:05:00\u001b[39m\u001b[38;5;124m\"\u001b[39m)\n\u001b[0;32m     14\u001b[0m     },\n\u001b[0;32m     15\u001b[0m     \u001b[38;5;124m\"\u001b[39m\u001b[38;5;124mMrs Robinson\u001b[39m\u001b[38;5;124m\"\u001b[39m: {\n\u001b[0;32m     16\u001b[0m         \u001b[38;5;124m\"\u001b[39m\u001b[38;5;124msetup_time\u001b[39m\u001b[38;5;124m\"\u001b[39m: pd\u001b[38;5;241m.\u001b[39mto_datetime(\u001b[38;5;124m\"\u001b[39m\u001b[38;5;124m2025-01-27 13:45:00\u001b[39m\u001b[38;5;124m\"\u001b[39m),\n\u001b[0;32m     17\u001b[0m         \u001b[38;5;124m\"\u001b[39m\u001b[38;5;124mmaintenance_start_time\u001b[39m\u001b[38;5;124m\"\u001b[39m: pd\u001b[38;5;241m.\u001b[39mto_datetime(\u001b[38;5;124m\"\u001b[39m\u001b[38;5;124m2025-01-31 15:55:00\u001b[39m\u001b[38;5;124m\"\u001b[39m),\n\u001b[0;32m     18\u001b[0m         \u001b[38;5;124m\"\u001b[39m\u001b[38;5;124mmaintenance_duration\u001b[39m\u001b[38;5;124m\"\u001b[39m: \u001b[38;5;241m40\u001b[39m,  \u001b[38;5;66;03m# Minuten\u001b[39;00m\n\u001b[0;32m     19\u001b[0m         \u001b[38;5;124m\"\u001b[39m\u001b[38;5;124mretrieval_time\u001b[39m\u001b[38;5;124m\"\u001b[39m: pd\u001b[38;5;241m.\u001b[39mto_datetime(\u001b[38;5;124m\"\u001b[39m\u001b[38;5;124m2025-02-03 10:32:00\u001b[39m\u001b[38;5;124m\"\u001b[39m)\n\u001b[0;32m     20\u001b[0m     },\n\u001b[0;32m     21\u001b[0m     \u001b[38;5;124m\"\u001b[39m\u001b[38;5;124mBette Davis\u001b[39m\u001b[38;5;124m\"\u001b[39m: {\n\u001b[0;32m     22\u001b[0m         \u001b[38;5;124m\"\u001b[39m\u001b[38;5;124msetup_time\u001b[39m\u001b[38;5;124m\"\u001b[39m: pd\u001b[38;5;241m.\u001b[39mto_datetime(\u001b[38;5;124m\"\u001b[39m\u001b[38;5;124m2025-01-27 12:15:00\u001b[39m\u001b[38;5;124m\"\u001b[39m),\n\u001b[0;32m     23\u001b[0m         \u001b[38;5;124m\"\u001b[39m\u001b[38;5;124mmaintenance_start_time\u001b[39m\u001b[38;5;124m\"\u001b[39m: pd\u001b[38;5;241m.\u001b[39mto_datetime(\u001b[38;5;124m\"\u001b[39m\u001b[38;5;124m2025-01-31 13:00:00\u001b[39m\u001b[38;5;124m\"\u001b[39m),\n\u001b[0;32m     24\u001b[0m         \u001b[38;5;124m\"\u001b[39m\u001b[38;5;124mmaintenance_duration\u001b[39m\u001b[38;5;124m\"\u001b[39m: \u001b[38;5;241m63\u001b[39m,  \u001b[38;5;66;03m# Minuten\u001b[39;00m\n\u001b[0;32m     25\u001b[0m         \u001b[38;5;124m\"\u001b[39m\u001b[38;5;124mretrieval_time\u001b[39m\u001b[38;5;124m\"\u001b[39m: pd\u001b[38;5;241m.\u001b[39mto_datetime(\u001b[38;5;124m\"\u001b[39m\u001b[38;5;124m2025-02-03 09:47:00\u001b[39m\u001b[38;5;124m\"\u001b[39m)\n\u001b[0;32m     26\u001b[0m     },\n\u001b[0;32m     27\u001b[0m     \u001b[38;5;124m\"\u001b[39m\u001b[38;5;124mTom Joad\u001b[39m\u001b[38;5;124m\"\u001b[39m: {\n\u001b[0;32m     28\u001b[0m         \u001b[38;5;124m\"\u001b[39m\u001b[38;5;124msetup_time\u001b[39m\u001b[38;5;124m\"\u001b[39m: pd\u001b[38;5;241m.\u001b[39mto_datetime(\u001b[38;5;124m\"\u001b[39m\u001b[38;5;124m2025-01-26 14:35:00\u001b[39m\u001b[38;5;124m\"\u001b[39m),\n\u001b[0;32m     29\u001b[0m         \u001b[38;5;124m\"\u001b[39m\u001b[38;5;124mmaintenance_start_time\u001b[39m\u001b[38;5;124m\"\u001b[39m: pd\u001b[38;5;241m.\u001b[39mto_datetime(\u001b[38;5;124m\"\u001b[39m\u001b[38;5;124m2025-01-28 10:45:00\u001b[39m\u001b[38;5;124m\"\u001b[39m),\n\u001b[0;32m     30\u001b[0m         \u001b[38;5;124m\"\u001b[39m\u001b[38;5;124mmaintenance_duration\u001b[39m\u001b[38;5;124m\"\u001b[39m: \u001b[38;5;241m25\u001b[39m,  \u001b[38;5;66;03m# Minuten\u001b[39;00m\n\u001b[0;32m     31\u001b[0m         \u001b[38;5;124m\"\u001b[39m\u001b[38;5;124mretrieval_time\u001b[39m\u001b[38;5;124m\"\u001b[39m: pd\u001b[38;5;241m.\u001b[39mto_datetime(\u001b[38;5;124m\"\u001b[39m\u001b[38;5;124m2025-02-03 12:09:00\u001b[39m\u001b[38;5;124m\"\u001b[39m)\n\u001b[0;32m     32\u001b[0m     }\n\u001b[0;32m     33\u001b[0m }\n",
      "\u001b[1;31mNameError\u001b[0m: name 'pd' is not defined"
     ]
    }
   ],
   "source": [
    "#values from excel sheet\n",
    "manual_times = {\n",
    "    \"Layla\": {\n",
    "        \"setup_time\": pd.to_datetime(\"2025-01-26 11:30:00\"),\n",
    "        \"maintenance_start_time\": pd.to_datetime(\"2025-01-28 09:35:00\"),\n",
    "        \"maintenance_duration\": 1,  # Minuten\n",
    "        \"retrieval_time\": pd.to_datetime(\"2025-02-03 11:05:00\")\n",
    "    },\n",
    "    \"Rosanna\": {\n",
    "        \"setup_time\": pd.to_datetime(\"2025-01-27 10:35:00\"),\n",
    "        \"maintenance_start_time\": pd.to_datetime(\"2025-01-31 10:45:00\"),\n",
    "        \"maintenance_duration\": 50,  # Minuten\n",
    "        \"retrieval_time\": pd.to_datetime(\"2025-02-03 09:05:00\")\n",
    "    },\n",
    "    \"Mrs Robinson\": {\n",
    "        \"setup_time\": pd.to_datetime(\"2025-01-27 13:45:00\"),\n",
    "        \"maintenance_start_time\": pd.to_datetime(\"2025-01-31 15:55:00\"),\n",
    "        \"maintenance_duration\": 40,  # Minuten\n",
    "        \"retrieval_time\": pd.to_datetime(\"2025-02-03 10:32:00\")\n",
    "    },\n",
    "    \"Bette Davis\": {\n",
    "        \"setup_time\": pd.to_datetime(\"2025-01-27 12:15:00\"),\n",
    "        \"maintenance_start_time\": pd.to_datetime(\"2025-01-31 13:00:00\"),\n",
    "        \"maintenance_duration\": 63,  # Minuten\n",
    "        \"retrieval_time\": pd.to_datetime(\"2025-02-03 09:47:00\")\n",
    "    },\n",
    "    \"Tom Joad\": {\n",
    "        \"setup_time\": pd.to_datetime(\"2025-01-26 14:35:00\"),\n",
    "        \"maintenance_start_time\": pd.to_datetime(\"2025-01-28 10:45:00\"),\n",
    "        \"maintenance_duration\": 25,  # Minuten\n",
    "        \"retrieval_time\": pd.to_datetime(\"2025-02-03 12:09:00\")\n",
    "    }\n",
    "}"
   ]
  },
  {
   "cell_type": "code",
   "execution_count": 7,
   "metadata": {},
   "outputs": [],
   "source": [
    "def filter_data_based_on_time(df, setup_time, maintenance_start_time, maintenance_duration, retrieval_time, is_second_file=False):\n",
    "    \"\"\"\n",
    "    Filtert die Daten basierend auf den angegebenen Zeitbereichen für das 1. und 2. Dataset.\n",
    "    \n",
    "    :param df: Der DataFrame mit den Rohdaten.\n",
    "    :param setup_time: Der Setup-Zeitpunkt in UTC (als pd.Timestamp).\n",
    "    :param maintenance_start_time: Der Startzeitpunkt der Wartung in UTC (als pd.Timestamp).\n",
    "    :param maintenance_duration: Die Dauer der Wartung in Minuten.\n",
    "    :param retrieval_time: Der Retrieval-Zeitpunkt in UTC (als pd.Timestamp).\n",
    "    :param is_second_file: True, wenn es sich um das 2. Dataset handelt, andernfalls False für das 1. Dataset.\n",
    "    :return: Der gefilterte DataFrame.\n",
    "    \"\"\"\n",
    "    if is_second_file:\n",
    "        # Filter für das 2. Dataset: nach Maintenance start time + duration + 5 Minuten und Retrieval time - 5 Minuten\n",
    "        start_time = maintenance_start_time + pd.Timedelta(minutes=int(maintenance_duration))\n",
    "        end_time = retrieval_time\n",
    "    else:\n",
    "        # Filter für das 1. Dataset: nach Setup time + 5 Minuten und Maintenance start time - 5 Minuten\n",
    "        start_time = setup_time\n",
    "        end_time = maintenance_start_time\n",
    "\n",
    "    # Filter die Daten innerhalb des angegebenen Zeitrahmens\n",
    "    filtered_df = df[(df.index >= start_time) & (df.index <= end_time)]\n",
    "    return filtered_df\n"
   ]
  },
  {
   "cell_type": "code",
   "execution_count": 8,
   "metadata": {},
   "outputs": [
    {
     "ename": "NameError",
     "evalue": "name 'pd' is not defined",
     "output_type": "error",
     "traceback": [
      "\u001b[1;31m---------------------------------------------------------------------------\u001b[0m",
      "\u001b[1;31mNameError\u001b[0m                                 Traceback (most recent call last)",
      "Cell \u001b[1;32mIn[8], line 2\u001b[0m\n\u001b[0;32m      1\u001b[0m \u001b[38;5;66;03m# Layla - File 1 und File 2\u001b[39;00m\n\u001b[1;32m----> 2\u001b[0m raw_data_1_layla \u001b[38;5;241m=\u001b[39m \u001b[43mAWS_file_loader\u001b[49m\u001b[43m(\u001b[49m\u001b[43mraw_layla_20250130\u001b[49m\u001b[43m)\u001b[49m\n\u001b[0;32m      3\u001b[0m raw_data_2_layla \u001b[38;5;241m=\u001b[39m AWS_file_loader(raw_layla_20250203)\n\u001b[0;32m      4\u001b[0m layla_times \u001b[38;5;241m=\u001b[39m manual_times[\u001b[38;5;124m\"\u001b[39m\u001b[38;5;124mLayla\u001b[39m\u001b[38;5;124m\"\u001b[39m]\n",
      "Cell \u001b[1;32mIn[3], line 2\u001b[0m, in \u001b[0;36mAWS_file_loader\u001b[1;34m(file_name)\u001b[0m\n\u001b[0;32m      1\u001b[0m \u001b[38;5;28;01mdef\u001b[39;00m\u001b[38;5;250m \u001b[39m\u001b[38;5;21mAWS_file_loader\u001b[39m(file_name):\n\u001b[1;32m----> 2\u001b[0m     df \u001b[38;5;241m=\u001b[39m \u001b[43mpd\u001b[49m\u001b[38;5;241m.\u001b[39mread_csv(file_name, skiprows\u001b[38;5;241m=\u001b[39m\u001b[38;5;241m1\u001b[39m)\u001b[38;5;241m.\u001b[39miloc[\u001b[38;5;241m2\u001b[39m:]\n\u001b[0;32m      3\u001b[0m     \u001b[38;5;66;03m# read the file, skip one row that has useless info, and the first 2 rows\u001b[39;00m\n\u001b[0;32m      4\u001b[0m     \u001b[38;5;66;03m# of data because they are respectively units and nans\u001b[39;00m\n\u001b[0;32m      5\u001b[0m     df\u001b[38;5;241m.\u001b[39mloc[:,\u001b[38;5;124m'\u001b[39m\u001b[38;5;124mTIMESTAMP\u001b[39m\u001b[38;5;124m'\u001b[39m] \u001b[38;5;241m=\u001b[39m df\u001b[38;5;241m.\u001b[39mTIMESTAMP\u001b[38;5;241m.\u001b[39mastype(\u001b[38;5;124m'\u001b[39m\u001b[38;5;124mdatetime64[ns]\u001b[39m\u001b[38;5;124m'\u001b[39m)\n",
      "\u001b[1;31mNameError\u001b[0m: name 'pd' is not defined"
     ]
    }
   ],
   "source": [
    "# Layla - File 1 und File 2\n",
    "raw_data_1_layla = AWS_file_loader(raw_layla_20250130)\n",
    "raw_data_2_layla = AWS_file_loader(raw_layla_20250203)\n",
    "layla_times = manual_times[\"Layla\"]\n",
    "filtered_data_1_layla = filter_data_based_on_time(\n",
    "    raw_data_1_layla, \n",
    "    layla_times[\"setup_time\"], \n",
    "    layla_times[\"maintenance_start_time\"], \n",
    "    layla_times[\"maintenance_duration\"], \n",
    "    layla_times[\"retrieval_time\"], \n",
    "    is_second_file=False\n",
    ")\n",
    "# filtered_data_2_layla = filter_data_based_on_time(\n",
    "#     raw_data_2_layla, \n",
    "#     layla_times[\"setup_time\"], \n",
    "#     layla_times[\"maintenance_start_time\"], \n",
    "#     layla_times[\"maintenance_duration\"], \n",
    "#     layla_times[\"retrieval_time\"], \n",
    "#     is_second_file=True\n",
    "#)\n",
    "\n",
    "# Rosanna - File 1 und File 2\n",
    "raw_data_1_rosanna = AWS_file_loader(raw_rosanna_20250131)\n",
    "raw_data_2_rosanna = AWS_file_loader(raw_rosanna_20250203)\n",
    "rosanna_times = manual_times[\"Rosanna\"]\n",
    "filtered_data_1_rosanna = filter_data_based_on_time(\n",
    "    raw_data_1_rosanna, \n",
    "    rosanna_times[\"setup_time\"], \n",
    "    rosanna_times[\"maintenance_start_time\"], \n",
    "    rosanna_times[\"maintenance_duration\"], \n",
    "    rosanna_times[\"retrieval_time\"], \n",
    "    is_second_file=False\n",
    ")\n",
    "filtered_data_2_rosanna = filter_data_based_on_time(\n",
    "    raw_data_2_rosanna, \n",
    "    rosanna_times[\"setup_time\"], \n",
    "    rosanna_times[\"maintenance_start_time\"], \n",
    "    rosanna_times[\"maintenance_duration\"], \n",
    "    rosanna_times[\"retrieval_time\"], \n",
    "    is_second_file=True\n",
    ")\n",
    "\n",
    "# Mrs Robinson - File 1 und File 2\n",
    "raw_data_1_mrsrobinson = AWS_file_loader(raw_mrsrobinson_20250131)\n",
    "raw_data_2_mrsrobinson = AWS_file_loader(raw_mrsrobinson_20250203)\n",
    "# mrsrobinson_times = manual_times[\"Mrs Robinson\"]\n",
    "# filtered_data_1_mrsrobinson = filter_data_based_on_time(\n",
    "#     raw_data_1_mrsrobinson, \n",
    "#     mrsrobinson_times[\"setup_time\"], \n",
    "#     mrsrobinson_times[\"maintenance_start_time\"], \n",
    "#     mrsrobinson_times[\"maintenance_duration\"], \n",
    "#     mrsrobinson_times[\"retrieval_time\"], \n",
    "#     is_second_file=False\n",
    "#)\n",
    "filtered_data_2_mrsrobinson = filter_data_based_on_time(\n",
    "    raw_data_2_mrsrobinson, \n",
    "    mrsrobinson_times[\"setup_time\"], \n",
    "    mrsrobinson_times[\"maintenance_start_time\"], \n",
    "    mrsrobinson_times[\"maintenance_duration\"], \n",
    "    mrsrobinson_times[\"retrieval_time\"], \n",
    "    is_second_file=True\n",
    ")\n",
    "\n",
    "# Bette Davis - File 1 und File 2\n",
    "raw_data_1_bettedavis = AWS_file_loader(raw_bettedavis_20250131)\n",
    "raw_data_2_bettedavis = AWS_file_loader(raw_bettedavis_20250203)\n",
    "bettedavis_times = manual_times[\"Bette Davis\"]\n",
    "filtered_data_1_bettedavis = filter_data_based_on_time(\n",
    "    raw_data_1_bettedavis, \n",
    "    bettedavis_times[\"setup_time\"], \n",
    "    bettedavis_times[\"maintenance_start_time\"], \n",
    "    bettedavis_times[\"maintenance_duration\"], \n",
    "    bettedavis_times[\"retrieval_time\"], \n",
    "    is_second_file=False\n",
    ")\n",
    "filtered_data_2_bettedavis = filter_data_based_on_time(\n",
    "    raw_data_2_bettedavis, \n",
    "    bettedavis_times[\"setup_time\"], \n",
    "    bettedavis_times[\"maintenance_start_time\"], \n",
    "    bettedavis_times[\"maintenance_duration\"], \n",
    "    bettedavis_times[\"retrieval_time\"], \n",
    "    is_second_file=True\n",
    ")\n",
    "\n",
    "# Tom Joad - File 1 und File 2\n",
    "raw_data_1_tomjoad = AWS_file_loader(raw_tomjoad_20250130)\n",
    "raw_data_2_tomjoad = AWS_file_loader(raw_tomjoad_20250203)\n",
    "tomjoad_times = manual_times[\"Tom Joad\"]\n",
    "filtered_data_1_tomjoad = filter_data_based_on_time(\n",
    "    raw_data_1_tomjoad, \n",
    "    tomjoad_times[\"setup_time\"], \n",
    "    tomjoad_times[\"maintenance_start_time\"], \n",
    "    tomjoad_times[\"maintenance_duration\"], \n",
    "    tomjoad_times[\"retrieval_time\"], \n",
    "    is_second_file=False\n",
    ")\n",
    "# filtered_data_2_tomjoad = filter_data_based_on_time(\n",
    "#     raw_data_2_tomjoad, \n",
    "#     tomjoad_times[\"setup_time\"], \n",
    "#     tomjoad_times[\"maintenance_start_time\"], \n",
    "#     tomjoad_times[\"maintenance_duration\"], \n",
    "#     tomjoad_times[\"retrieval_time\"], \n",
    "#     is_second_file=True\n",
    "# )\n",
    "\n",
    "# Ausgabe der Ergebnisse\n",
    "print(\"Gefilterte Daten für Layla (File 1):\")\n",
    "print(filtered_data_1_layla.head())\n",
    "print(f\"Startdatum: {filtered_data_1_layla.index.min()} | Enddatum: {filtered_data_1_layla.index.max()}\")\n",
    "\n",
    "print(\"Gefilterte Daten für Layla (File 2):\")\n",
    "print(filtered_data_2_layla.head())\n",
    "print(f\"Startdatum: {filtered_data_2_layla.index.min()} | Enddatum: {filtered_data_2_layla.index.max()}\")\n",
    "# Wiederhole dies für die anderen Stationen (Rosanna, Mrs Robinson, etc.)\n",
    "#filtered_data_2_layla"
   ]
  },
  {
   "cell_type": "markdown",
   "metadata": {},
   "source": [
    "merge"
   ]
  },
  {
   "cell_type": "code",
   "execution_count": 9,
   "metadata": {},
   "outputs": [
    {
     "ename": "NameError",
     "evalue": "name 'pd' is not defined",
     "output_type": "error",
     "traceback": [
      "\u001b[1;31m---------------------------------------------------------------------------\u001b[0m",
      "\u001b[1;31mNameError\u001b[0m                                 Traceback (most recent call last)",
      "Cell \u001b[1;32mIn[9], line 1\u001b[0m\n\u001b[1;32m----> 1\u001b[0m layla_all_filtered \u001b[38;5;241m=\u001b[39m \u001b[43mpd\u001b[49m\u001b[38;5;241m.\u001b[39mconcat((filtered_data_1_layla, filtered_data_2_layla))\n\u001b[0;32m      2\u001b[0m rosanna_all_filtered \u001b[38;5;241m=\u001b[39m pd\u001b[38;5;241m.\u001b[39mconcat((filtered_data_1_rosanna, filtered_data_2_rosanna))\n\u001b[0;32m      3\u001b[0m mrsrobinson_all_filtered \u001b[38;5;241m=\u001b[39m pd\u001b[38;5;241m.\u001b[39mconcat((filtered_data_1_mrsrobinson, filtered_data_2_mrsrobinson))\n",
      "\u001b[1;31mNameError\u001b[0m: name 'pd' is not defined"
     ]
    }
   ],
   "source": [
    "layla_all_filtered = pd.concat((filtered_data_1_layla, filtered_data_2_layla))\n",
    "rosanna_all_filtered = pd.concat((filtered_data_1_rosanna, filtered_data_2_rosanna))\n",
    "mrsrobinson_all_filtered = pd.concat((filtered_data_1_mrsrobinson, filtered_data_2_mrsrobinson))\n",
    "bettedavis_all_filtered = pd.concat((filtered_data_1_bettedavis, filtered_data_2_bettedavis))\n",
    "tomjoad_all_filtered = pd.concat((filtered_data_1_tomjoad, filtered_data_2_tomjoad))\n",
    "\n",
    "layla_all_filtered"
   ]
  },
  {
   "cell_type": "markdown",
   "metadata": {},
   "source": [
    "calibration"
   ]
  },
  {
   "cell_type": "code",
   "execution_count": 10,
   "metadata": {},
   "outputs": [],
   "source": [
    "#wind\n",
    "def calibrate_wind_speed_layla(wind_speed):\n",
    "    if np.isnan(wind_speed):  # Überprüfen, ob der Wert NaN ist\n",
    "        return np.nan\n",
    "    calibrated_speed = wind_speed * 0.91 - 0.04\n",
    "    return max(calibrated_speed, 0)  # Falls der Wert negativ ist, setze ihn auf 0\n",
    "\n",
    "def calibrate_wind_speed_rosanna(wind_speed):\n",
    "    if np.isnan(wind_speed):  # Überprüfen, ob der Wert NaN ist\n",
    "        return np.nan\n",
    "    calibrated_speed = wind_speed * 1.06 + 0.02\n",
    "    return max(calibrated_speed, 0)\n",
    "\n",
    "def calibrate_wind_speed_mrsrobinson(wind_speed):\n",
    "    if np.isnan(wind_speed):  # Überprüfen, ob der Wert NaN ist\n",
    "        return np.nan\n",
    "    calibrated_speed = wind_speed * 1.06 - 0.05\n",
    "    return max(calibrated_speed, 0)\n",
    "\n",
    "def calibrate_wind_speed_bettedavis(wind_speed):\n",
    "    if np.isnan(wind_speed):  # Überprüfen, ob der Wert NaN ist\n",
    "        return np.nan\n",
    "    calibrated_speed = wind_speed * 0.97 + 0.11\n",
    "    return max(calibrated_speed, 0)\n",
    "\n",
    "def calibrate_wind_speed_tomjoad(wind_speed):\n",
    "    if np.isnan(wind_speed):  # Überprüfen, ob der Wert NaN ist\n",
    "        return np.nan\n",
    "    calibrated_speed = wind_speed * 1 - 0.04\n",
    "    return max(calibrated_speed, 0)\n"
   ]
  },
  {
   "cell_type": "code",
   "execution_count": 11,
   "metadata": {},
   "outputs": [
    {
     "ename": "NameError",
     "evalue": "name 'pd' is not defined",
     "output_type": "error",
     "traceback": [
      "\u001b[1;31m---------------------------------------------------------------------------\u001b[0m",
      "\u001b[1;31mNameError\u001b[0m                                 Traceback (most recent call last)",
      "Cell \u001b[1;32mIn[11], line 2\u001b[0m\n\u001b[0;32m      1\u001b[0m \u001b[38;5;66;03m# Schritt 1: Alle DataFrames zusammenführen\u001b[39;00m\n\u001b[1;32m----> 2\u001b[0m layla_all_filtered \u001b[38;5;241m=\u001b[39m \u001b[43mpd\u001b[49m\u001b[38;5;241m.\u001b[39mconcat((filtered_data_1_layla, filtered_data_2_layla))\n\u001b[0;32m      3\u001b[0m rosanna_all_filtered \u001b[38;5;241m=\u001b[39m pd\u001b[38;5;241m.\u001b[39mconcat((filtered_data_1_rosanna, filtered_data_2_rosanna))\n\u001b[0;32m      4\u001b[0m mrsrobinson_all_filtered \u001b[38;5;241m=\u001b[39m pd\u001b[38;5;241m.\u001b[39mconcat((filtered_data_1_mrsrobinson, filtered_data_2_mrsrobinson))\n",
      "\u001b[1;31mNameError\u001b[0m: name 'pd' is not defined"
     ]
    }
   ],
   "source": [
    "# Schritt 1: Alle DataFrames zusammenführen\n",
    "layla_all_filtered = pd.concat((filtered_data_1_layla, filtered_data_2_layla))\n",
    "rosanna_all_filtered = pd.concat((filtered_data_1_rosanna, filtered_data_2_rosanna))\n",
    "mrsrobinson_all_filtered = pd.concat((filtered_data_1_mrsrobinson, filtered_data_2_mrsrobinson))\n",
    "bettedavis_all_filtered = pd.concat((filtered_data_1_bettedavis, filtered_data_2_bettedavis))\n",
    "tomjoad_all_filtered = pd.concat((filtered_data_1_tomjoad, filtered_data_2_tomjoad))\n",
    "\n",
    "# Schritt 2: Kalibrierungsfunktionen anwenden\n",
    "layla_all_filtered['calibrated_wind_speed'] = layla_all_filtered['wind_speed'].apply(calibrate_wind_speed_layla)\n",
    "rosanna_all_filtered['calibrated_wind_speed'] = rosanna_all_filtered['wind_speed'].apply(calibrate_wind_speed_rosanna)\n",
    "mrsrobinson_all_filtered['calibrated_wind_speed'] = mrsrobinson_all_filtered['wind_speed'].apply(calibrate_wind_speed_mrsrobinson)\n",
    "bettedavis_all_filtered['calibrated_wind_speed'] = bettedavis_all_filtered['wind_speed'].apply(calibrate_wind_speed_bettedavis)\n",
    "tomjoad_all_filtered['calibrated_wind_speed'] = tomjoad_all_filtered['wind_speed'].apply(calibrate_wind_speed_tomjoad)\n",
    "\n",
    "# Schritt 3: Zeige die Ergebnisse für Layla als Beispiel\n",
    "#print(layla_all_filtered[['RECORD', 'BattV', 'calibrated_wind_speed']].head())\n"
   ]
  },
  {
   "cell_type": "code",
   "execution_count": 12,
   "metadata": {},
   "outputs": [
    {
     "ename": "NameError",
     "evalue": "name 'layla_all_filtered' is not defined",
     "output_type": "error",
     "traceback": [
      "\u001b[1;31m---------------------------------------------------------------------------\u001b[0m",
      "\u001b[1;31mNameError\u001b[0m                                 Traceback (most recent call last)",
      "Cell \u001b[1;32mIn[12], line 1\u001b[0m\n\u001b[1;32m----> 1\u001b[0m layla_filtered_df \u001b[38;5;241m=\u001b[39m \u001b[43mlayla_all_filtered\u001b[49m[[\u001b[38;5;124m'\u001b[39m\u001b[38;5;124mRECORD\u001b[39m\u001b[38;5;124m'\u001b[39m, \u001b[38;5;124m'\u001b[39m\u001b[38;5;124mBattV\u001b[39m\u001b[38;5;124m'\u001b[39m, \u001b[38;5;124m'\u001b[39m\u001b[38;5;124mcalibrated_wind_speed\u001b[39m\u001b[38;5;124m'\u001b[39m]]\u001b[38;5;241m.\u001b[39mreset_index()\n\u001b[0;32m      2\u001b[0m rosanna_filtered_df \u001b[38;5;241m=\u001b[39m rosanna_all_filtered[[\u001b[38;5;124m'\u001b[39m\u001b[38;5;124mRECORD\u001b[39m\u001b[38;5;124m'\u001b[39m, \u001b[38;5;124m'\u001b[39m\u001b[38;5;124mBattV\u001b[39m\u001b[38;5;124m'\u001b[39m, \u001b[38;5;124m'\u001b[39m\u001b[38;5;124mcalibrated_wind_speed\u001b[39m\u001b[38;5;124m'\u001b[39m]]\u001b[38;5;241m.\u001b[39mreset_index()\n\u001b[0;32m      3\u001b[0m mrsrobinson_filtered_df \u001b[38;5;241m=\u001b[39m mrsrobinson_all_filtered[[\u001b[38;5;124m'\u001b[39m\u001b[38;5;124mRECORD\u001b[39m\u001b[38;5;124m'\u001b[39m, \u001b[38;5;124m'\u001b[39m\u001b[38;5;124mBattV\u001b[39m\u001b[38;5;124m'\u001b[39m, \u001b[38;5;124m'\u001b[39m\u001b[38;5;124mcalibrated_wind_speed\u001b[39m\u001b[38;5;124m'\u001b[39m]]\u001b[38;5;241m.\u001b[39mreset_index()\n",
      "\u001b[1;31mNameError\u001b[0m: name 'layla_all_filtered' is not defined"
     ]
    }
   ],
   "source": [
    "layla_filtered_df = layla_all_filtered[['RECORD', 'BattV', 'calibrated_wind_speed']].reset_index()\n",
    "rosanna_filtered_df = rosanna_all_filtered[['RECORD', 'BattV', 'calibrated_wind_speed']].reset_index()\n",
    "mrsrobinson_filtered_df = mrsrobinson_all_filtered[['RECORD', 'BattV', 'calibrated_wind_speed']].reset_index()\n",
    "bettedavis_filtered_df = bettedavis_all_filtered[['RECORD', 'BattV', 'calibrated_wind_speed']].reset_index()\n",
    "tomjoad_filtered_df = tomjoad_all_filtered[['RECORD', 'BattV', 'calibrated_wind_speed']].reset_index()\n",
    "\n",
    "print(layla_filtered_df.head())\n",
    "print(rosanna_filtered_df.head())\n",
    "print(mrsrobinson_filtered_df.head())\n",
    "print(bettedavis_filtered_df.head())\n",
    "print(tomjoad_filtered_df.head())"
   ]
  },
  {
   "cell_type": "code",
   "execution_count": null,
   "metadata": {},
   "outputs": [],
   "source": [
    "file_path = 'Data/CalibratedData/'\n",
    "\n",
    "layla_filtered_df.to_csv('layla_filtered_data.csv', index=False)\n",
    "rosanna_filtered_df.to_csv('rosanna_filtered_data.csv', index=False)\n",
    "mrsrobinson_filtered_df.to_csv('mrsrobinson_filtered_data.csv', index=False)\n",
    "bettedavis_filtered_df.to_csv('bettedavis_filtered_data.csv', index=False)\n",
    "tomjoad_filtered_df.to_csv('tomjoad_filtered_data.csv', index=False)"
   ]
  }
 ],
 "metadata": {
  "kernelspec": {
   "display_name": "Boundary_Layer",
   "language": "python",
   "name": "python3"
  },
  "language_info": {
   "codemirror_mode": {
    "name": "ipython",
    "version": 3
   },
   "file_extension": ".py",
   "mimetype": "text/x-python",
   "name": "python",
   "nbconvert_exporter": "python",
   "pygments_lexer": "ipython3",
   "version": "3.13.1"
  }
 },
 "nbformat": 4,
 "nbformat_minor": 2
}
